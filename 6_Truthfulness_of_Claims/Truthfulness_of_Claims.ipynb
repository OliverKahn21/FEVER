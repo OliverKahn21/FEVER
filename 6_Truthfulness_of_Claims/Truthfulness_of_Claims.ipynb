{
  "nbformat": 4,
  "nbformat_minor": 0,
  "metadata": {
    "colab": {
      "name": "Subtask6.ipynb",
      "version": "0.3.2",
      "provenance": [],
      "collapsed_sections": []
    },
    "kernelspec": {
      "name": "python3",
      "display_name": "Python 3"
    }
  },
  "cells": [
    {
      "metadata": {
        "id": "Q8NpoodZfNAk",
        "colab_type": "text"
      },
      "cell_type": "markdown",
      "source": [
        "Subtask6"
      ]
    },
    {
      "metadata": {
        "id": "yxIF1FT4fNm2",
        "colab_type": "code",
        "colab": {}
      },
      "cell_type": "code",
      "source": [
        "import os\n",
        "import numpy as np\n",
        "from matplotlib import pyplot as plt\n",
        "from fever_io import load_dataset_json\n",
        "from math import *\n",
        "import re\n",
        "import gensim.models.keyedvectors as word2vec"
      ],
      "execution_count": 0,
      "outputs": []
    },
    {
      "metadata": {
        "id": "-xBB2vlbh9mL",
        "colab_type": "code",
        "outputId": "d462c971-5372-422b-cc1e-b56124991012",
        "colab": {
          "base_uri": "https://localhost:8080/",
          "height": 54
        }
      },
      "cell_type": "code",
      "source": [
        "from google.colab import drive\n",
        "drive.mount('/content/gdrive')"
      ],
      "execution_count": 0,
      "outputs": [
        {
          "output_type": "stream",
          "text": [
            "Drive already mounted at /content/gdrive; to attempt to forcibly remount, call drive.mount(\"/content/gdrive\", force_remount=True).\n"
          ],
          "name": "stdout"
        }
      ]
    },
    {
      "metadata": {
        "id": "tX4UjL1cLcOX",
        "colab_type": "code",
        "colab": {}
      },
      "cell_type": "code",
      "source": [
        "PATH = '/content/gdrive/My Drive/IRDM_CHFX2/'"
      ],
      "execution_count": 0,
      "outputs": []
    },
    {
      "metadata": {
        "id": "bAj6US7TgWzF",
        "colab_type": "code",
        "colab": {}
      },
      "cell_type": "code",
      "source": [
        "def prepare_train_Subtask6_1():\n",
        "    '''\n",
        "    This function is the same as the function uss in the Subtask4 and the purpose of it is to get a dictionary which the key is document id and the value is the 'line'.\n",
        "    The instance number we use at this project is 5000.\n",
        "    '''\n",
        "    train_data = load_dataset_json(PATH + 'data/train.jsonl', instance_num = 5000)\n",
        "    evidence = []\n",
        "    for i in train_data:\n",
        "        for j in i['evidence']:\n",
        "            evidence.append(j[0][2])\n",
        "    files = os.listdir(PATH + 'data/wiki-pages/wiki-pages/')\n",
        "    documents = {}\n",
        "    for i in files:\n",
        "        with open(os.path.join(PATH + 'data/wiki-pages/wiki-pages/', i)) as fp:\n",
        "            lines = fp.readlines()\n",
        "            for line in lines:\n",
        "                line = eval(line)\n",
        "                if line['id'] in evidence:\n",
        "                    text = line['lines']\n",
        "                    documents[line['id']] = text\n",
        "    with open(PATH + 'prepare_train_Subtask6_1.txt', 'w', encoding='utf-8') as f:\n",
        "        f.write(str(documents))"
      ],
      "execution_count": 0,
      "outputs": []
    },
    {
      "metadata": {
        "id": "3eMahtzkkDPg",
        "colab_type": "code",
        "colab": {}
      },
      "cell_type": "code",
      "source": [
        "prepare_train_Subtask6_1()"
      ],
      "execution_count": 0,
      "outputs": []
    },
    {
      "metadata": {
        "id": "Eav_Xn-ajXzj",
        "colab_type": "code",
        "colab": {}
      },
      "cell_type": "code",
      "source": [
        "def prepare_train_Subtask6_2():\n",
        "    '''\n",
        "    This function aim to connect the claim, the evidence sentence and the label. And embedding this list.\n",
        "    The output of this function is the train data for the neural network and it is a 601-dimensional vector for this train data. \n",
        "    '''\n",
        "    with open(PATH + 'prepare_train_Subtask6_1.txt', encoding='utf-8') as f:\n",
        "        document = eval(f.read())\n",
        "      \n",
        "    train_data = load_dataset_json(PATH + 'data/train.jsonl', instance_num = 5000)\n",
        "    model = word2vec.KeyedVectors.load_word2vec_format(PATH + \"data/GoogleNews-vectors-negative300.bin\", binary=True)\n",
        "\n",
        "    with open(PATH + 'traindata_Subtask6.txt', 'w') as fp:\n",
        "        for data in train_data:\n",
        "            if data['label'] != 'NOT ENOUGH INFO':\n",
        "                claim = data['claim'][:-1]\n",
        "                claim = re.sub(\"[-,.。:_=+*&^%$#@!?()<>/`';|]\", \"\", claim)\n",
        "                claim = claim.split(' ')\n",
        "                claim = list(filter(lambda x: x in model.vocab, claim))\n",
        "                Vi = []\n",
        "                for i in range(len(claim)):\n",
        "                    Vi.append(model[claim[i]])\n",
        "\n",
        "                V = np.zeros(len(Vi[0]))\n",
        "                for i in range(len(claim)):\n",
        "                    for j in range(len(Vi[0])):\n",
        "                        V[j] = V[j] + Vi[i][j]\n",
        "\n",
        "                rms = 0\n",
        "                for i in range(len(Vi[0])):\n",
        "                    rms += V[i] * V[i]\n",
        "                rms = np.sqrt(rms / len(Vi[0]))\n",
        "\n",
        "                for i in range(len(Vi[0])):\n",
        "                    V[i] = V[i] / rms\n",
        "\n",
        "                label = '1' if data['label'] == 'SUPPORTS' else '0'\n",
        "                # V = V.astype(str).tolist()\n",
        "\n",
        "                for evidence in data['evidence']:\n",
        "                    # print(evidence)\n",
        "                    if evidence[0][2]:\n",
        "                        tmp = evidence[0][2]\n",
        "                        if tmp in document:\n",
        "                            # print(document[tmp])\n",
        "                            lines = document[tmp].split('\\n')\n",
        "                            # for k in range(len(lines)):\n",
        "                            line = document[tmp].split('\\n')[evidence[0][3]].replace(str(evidence[0][3]) + '\\t', '')\n",
        "                            line = re.sub('[-,.。:_=+*&^%$#@!?()<>/]', '', line)\n",
        "                            line = line.split(' ')\n",
        "                            line = list(filter(lambda x: x in model.vocab, line))\n",
        "                            # print(line)\n",
        "                            Vi = []\n",
        "                            for i in range(len(line)):\n",
        "                                Vi.append(model[line[i]])\n",
        "                            V1 = np.zeros(len(Vi[0]))\n",
        "                            for i in range(len(line)):\n",
        "                                for j in range(len(Vi[0])):\n",
        "                                    V1[j] = V1[j] + Vi[i][j]\n",
        "                            rms = 0\n",
        "                            for i in range(len(Vi[0])):\n",
        "                                rms += V1[i] * V1[i]\n",
        "                            rms = np.sqrt(rms / len(Vi[0]))\n",
        "                            for i in range(len(Vi[0])):\n",
        "                                V1[i] = V1[i] / rms\n",
        "                            # res = V - V1\n",
        "                            # print(type(V))\n",
        "                            res1 = V.astype(str).tolist()\n",
        "                            res2 = V1.astype(str).tolist()\n",
        "\n",
        "                            fp.write(' '.join(res1) + ' ' + ' '.join(res2) + ' ' + label + '\\n')\n",
        "                # break"
      ],
      "execution_count": 0,
      "outputs": []
    },
    {
      "metadata": {
        "id": "Fehqz2PnOmUz",
        "colab_type": "code",
        "colab": {}
      },
      "cell_type": "code",
      "source": [
        "prepare_train_Subtask6_2()"
      ],
      "execution_count": 0,
      "outputs": []
    },
    {
      "metadata": {
        "id": "mz-LIXQA0VnK",
        "colab_type": "code",
        "colab": {}
      },
      "cell_type": "code",
      "source": [
        "'''\n",
        "Following two functions is the same as the above two function. The only different is following two functions output the test data from dev data set.\n",
        "'''"
      ],
      "execution_count": 0,
      "outputs": []
    },
    {
      "metadata": {
        "id": "1-ZBTrrG2XW4",
        "colab_type": "code",
        "colab": {}
      },
      "cell_type": "code",
      "source": [
        "def prepare_dev_Subtask6_1():\n",
        "    train_data = load_dataset_json(PATH + 'data/dev.jsonl', instance_num = 500)\n",
        "    evidence = []\n",
        "    for i in train_data:\n",
        "        for j in i['evidence']:\n",
        "            evidence.append(j[0][2])\n",
        "    files = os.listdir(PATH + 'data/wiki-pages/wiki-pages/')\n",
        "    documents = {}\n",
        "    for i in files:\n",
        "        with open(os.path.join(PATH + 'data/wiki-pages/wiki-pages/', i)) as fp:\n",
        "            lines = fp.readlines()\n",
        "            for line in lines:\n",
        "                line = eval(line)\n",
        "                if line['id'] in evidence:\n",
        "                    text = line['lines']\n",
        "                    documents[line['id']] = text\n",
        "    with open(PATH + 'prepare_dev_Subtask6_1.txt', 'w', encoding='utf-8') as f:\n",
        "        f.write(str(documents))"
      ],
      "execution_count": 0,
      "outputs": []
    },
    {
      "metadata": {
        "id": "xfdctas02X6m",
        "colab_type": "code",
        "colab": {}
      },
      "cell_type": "code",
      "source": [
        "prepare_dev_Subtask6_1()"
      ],
      "execution_count": 0,
      "outputs": []
    },
    {
      "metadata": {
        "id": "SIqsQwY_2Z8F",
        "colab_type": "code",
        "colab": {}
      },
      "cell_type": "code",
      "source": [
        "def prepare_dev_Subtask6_2():\n",
        "    with open(PATH + 'prepare_dev_Subtask6_1.txt', encoding='utf-8') as f:\n",
        "        document = eval(f.read())\n",
        "      \n",
        "    train_data = load_dataset_json(PATH + 'data/dev.jsonl', instance_num = 500)\n",
        "    model = word2vec.KeyedVectors.load_word2vec_format(PATH + \"data/GoogleNews-vectors-negative300.bin\", binary=True)\n",
        "\n",
        "    with open(PATH + 'devdata_Subtask6.txt', 'w') as fp:\n",
        "        for data in train_data:\n",
        "            if data['label'] != 'NOT ENOUGH INFO':\n",
        "                claim = data['claim'][:-1]\n",
        "                claim = re.sub(\"[-,.。:_=+*&^%$#@!?()<>/`';|]\", \"\", claim)\n",
        "                claim = claim.split(' ')\n",
        "                claim = list(filter(lambda x: x in model.vocab, claim))\n",
        "                Vi = []\n",
        "                for i in range(len(claim)):\n",
        "                    Vi.append(model[claim[i]])\n",
        "\n",
        "                V = np.zeros(len(Vi[0]))\n",
        "                for i in range(len(claim)):\n",
        "                    for j in range(len(Vi[0])):\n",
        "                        V[j] = V[j] + Vi[i][j]\n",
        "\n",
        "                rms = 0\n",
        "                for i in range(len(Vi[0])):\n",
        "                    rms += V[i] * V[i]\n",
        "                rms = np.sqrt(rms / len(Vi[0]))\n",
        "\n",
        "                for i in range(len(Vi[0])):\n",
        "                    V[i] = V[i] / rms\n",
        "\n",
        "                label = '1' if data['label'] == 'SUPPORTS' else '0'\n",
        "                # V = V.astype(str).tolist()\n",
        "\n",
        "                for evidence in data['evidence']:\n",
        "                    # print(evidence)\n",
        "                    if evidence[0][2]:\n",
        "                        tmp = evidence[0][2]\n",
        "                        if tmp in document:\n",
        "                            # print(document[tmp])\n",
        "                            lines = document[tmp].split('\\n')\n",
        "                            # for k in range(len(lines)):\n",
        "                            line = document[tmp].split('\\n')[evidence[0][3]].replace(str(evidence[0][3]) + '\\t', '')\n",
        "                            line = re.sub('[-,.。:_=+*&^%$#@!?()<>/]', '', line)\n",
        "                            line = line.split(' ')\n",
        "                            line = list(filter(lambda x: x in model.vocab, line))\n",
        "                            # print(line)\n",
        "                            Vi = []\n",
        "                            for i in range(len(line)):\n",
        "                                Vi.append(model[line[i]])\n",
        "                            V1 = np.zeros(len(Vi[0]))\n",
        "                            for i in range(len(line)):\n",
        "                                for j in range(len(Vi[0])):\n",
        "                                    V1[j] = V1[j] + Vi[i][j]\n",
        "                            rms = 0\n",
        "                            for i in range(len(Vi[0])):\n",
        "                                rms += V1[i] * V1[i]\n",
        "                            rms = np.sqrt(rms / len(Vi[0]))\n",
        "                            for i in range(len(Vi[0])):\n",
        "                                V1[i] = V1[i] / rms\n",
        "                            # res = V - V1\n",
        "                            # print(type(V))\n",
        "                            res1 = V.astype(str).tolist()\n",
        "                            res2 = V1.astype(str).tolist()\n",
        "\n",
        "\n",
        "                            fp.write(' '.join(res1) + ' ' + ' '.join(res2) + ' ' + label + '\\n')\n",
        "                # break"
      ],
      "execution_count": 0,
      "outputs": []
    },
    {
      "metadata": {
        "id": "bwkm9U3R2beX",
        "colab_type": "code",
        "colab": {}
      },
      "cell_type": "code",
      "source": [
        "prepare_dev_Subtask6_2()"
      ],
      "execution_count": 0,
      "outputs": []
    },
    {
      "metadata": {
        "id": "JqMceZxifvQh",
        "colab_type": "code",
        "colab": {}
      },
      "cell_type": "code",
      "source": [
        "import pandas as pd\n",
        "import tensorflow as tf"
      ],
      "execution_count": 0,
      "outputs": []
    },
    {
      "metadata": {
        "id": "dwlNWbwUf3kp",
        "colab_type": "code",
        "colab": {}
      },
      "cell_type": "code",
      "source": [
        "'''\n",
        "Translating the train data and test data to the format that tensorflow can read.\n",
        "'''\n",
        "COLUMN_NAMES = []\n",
        "for i in range(600):\n",
        "    COLUMN_NAMES.append('a' + str(i) )\n",
        "COLUMN_NAMES.append('label')\n",
        "data_train = pd.read_csv(PATH + 'traindata_Subtask6.txt',sep=' ', names=COLUMN_NAMES, header=0)\n",
        "data_test = pd.read_csv(PATH + 'devdata_Subtask6.txt',sep=' ', names=COLUMN_NAMES, header=0)\n",
        "train_x, train_y = data_train, data_train.pop('label')\n",
        "test_x, test_y = data_test, data_test.pop('label')"
      ],
      "execution_count": 0,
      "outputs": []
    },
    {
      "metadata": {
        "id": "ne2FvyQPgCdJ",
        "colab_type": "code",
        "outputId": "2a3da00f-abaa-4b90-f39f-a96de6bdbca6",
        "colab": {
          "base_uri": "https://localhost:8080/",
          "height": 54
        }
      },
      "cell_type": "code",
      "source": [
        "'''\n",
        "Extracting the feature of data from train set.\n",
        "'''\n",
        "my_feature_columns = []\n",
        "for key in train_x.keys():\n",
        "    my_feature_columns.append(tf.feature_column.numeric_column(key=key))\n",
        "print(my_feature_columns)"
      ],
      "execution_count": 0,
      "outputs": [
        {
          "output_type": "stream",
          "text": [
            "[NumericColumn(key='a0', shape=(1,), default_value=None, dtype=tf.float32, normalizer_fn=None), NumericColumn(key='a1', shape=(1,), default_value=None, dtype=tf.float32, normalizer_fn=None), NumericColumn(key='a2', shape=(1,), default_value=None, dtype=tf.float32, normalizer_fn=None), NumericColumn(key='a3', shape=(1,), default_value=None, dtype=tf.float32, normalizer_fn=None), NumericColumn(key='a4', shape=(1,), default_value=None, dtype=tf.float32, normalizer_fn=None), NumericColumn(key='a5', shape=(1,), default_value=None, dtype=tf.float32, normalizer_fn=None), NumericColumn(key='a6', shape=(1,), default_value=None, dtype=tf.float32, normalizer_fn=None), NumericColumn(key='a7', shape=(1,), default_value=None, dtype=tf.float32, normalizer_fn=None), NumericColumn(key='a8', shape=(1,), default_value=None, dtype=tf.float32, normalizer_fn=None), NumericColumn(key='a9', shape=(1,), default_value=None, dtype=tf.float32, normalizer_fn=None), NumericColumn(key='a10', shape=(1,), default_value=None, dtype=tf.float32, normalizer_fn=None), NumericColumn(key='a11', shape=(1,), default_value=None, dtype=tf.float32, normalizer_fn=None), NumericColumn(key='a12', shape=(1,), default_value=None, dtype=tf.float32, normalizer_fn=None), NumericColumn(key='a13', shape=(1,), default_value=None, dtype=tf.float32, normalizer_fn=None), NumericColumn(key='a14', shape=(1,), default_value=None, dtype=tf.float32, normalizer_fn=None), NumericColumn(key='a15', shape=(1,), default_value=None, dtype=tf.float32, normalizer_fn=None), NumericColumn(key='a16', shape=(1,), default_value=None, dtype=tf.float32, normalizer_fn=None), NumericColumn(key='a17', shape=(1,), default_value=None, dtype=tf.float32, normalizer_fn=None), NumericColumn(key='a18', shape=(1,), default_value=None, dtype=tf.float32, normalizer_fn=None), NumericColumn(key='a19', shape=(1,), default_value=None, dtype=tf.float32, normalizer_fn=None), NumericColumn(key='a20', shape=(1,), default_value=None, dtype=tf.float32, normalizer_fn=None), NumericColumn(key='a21', shape=(1,), default_value=None, dtype=tf.float32, normalizer_fn=None), NumericColumn(key='a22', shape=(1,), default_value=None, dtype=tf.float32, normalizer_fn=None), NumericColumn(key='a23', shape=(1,), default_value=None, dtype=tf.float32, normalizer_fn=None), NumericColumn(key='a24', shape=(1,), default_value=None, dtype=tf.float32, normalizer_fn=None), NumericColumn(key='a25', shape=(1,), default_value=None, dtype=tf.float32, normalizer_fn=None), NumericColumn(key='a26', shape=(1,), default_value=None, dtype=tf.float32, normalizer_fn=None), NumericColumn(key='a27', shape=(1,), default_value=None, dtype=tf.float32, normalizer_fn=None), NumericColumn(key='a28', shape=(1,), default_value=None, dtype=tf.float32, normalizer_fn=None), NumericColumn(key='a29', shape=(1,), default_value=None, dtype=tf.float32, normalizer_fn=None), NumericColumn(key='a30', shape=(1,), default_value=None, dtype=tf.float32, normalizer_fn=None), NumericColumn(key='a31', shape=(1,), default_value=None, dtype=tf.float32, normalizer_fn=None), NumericColumn(key='a32', shape=(1,), default_value=None, dtype=tf.float32, normalizer_fn=None), NumericColumn(key='a33', shape=(1,), default_value=None, dtype=tf.float32, normalizer_fn=None), NumericColumn(key='a34', shape=(1,), default_value=None, dtype=tf.float32, normalizer_fn=None), NumericColumn(key='a35', shape=(1,), default_value=None, dtype=tf.float32, normalizer_fn=None), NumericColumn(key='a36', shape=(1,), default_value=None, dtype=tf.float32, normalizer_fn=None), NumericColumn(key='a37', shape=(1,), default_value=None, dtype=tf.float32, normalizer_fn=None), NumericColumn(key='a38', shape=(1,), default_value=None, dtype=tf.float32, normalizer_fn=None), NumericColumn(key='a39', shape=(1,), default_value=None, dtype=tf.float32, normalizer_fn=None), NumericColumn(key='a40', shape=(1,), default_value=None, dtype=tf.float32, normalizer_fn=None), NumericColumn(key='a41', shape=(1,), default_value=None, dtype=tf.float32, normalizer_fn=None), NumericColumn(key='a42', shape=(1,), default_value=None, dtype=tf.float32, normalizer_fn=None), NumericColumn(key='a43', shape=(1,), default_value=None, dtype=tf.float32, normalizer_fn=None), NumericColumn(key='a44', shape=(1,), default_value=None, dtype=tf.float32, normalizer_fn=None), NumericColumn(key='a45', shape=(1,), default_value=None, dtype=tf.float32, normalizer_fn=None), NumericColumn(key='a46', shape=(1,), default_value=None, dtype=tf.float32, normalizer_fn=None), NumericColumn(key='a47', shape=(1,), default_value=None, dtype=tf.float32, normalizer_fn=None), NumericColumn(key='a48', shape=(1,), default_value=None, dtype=tf.float32, normalizer_fn=None), NumericColumn(key='a49', shape=(1,), default_value=None, dtype=tf.float32, normalizer_fn=None), NumericColumn(key='a50', shape=(1,), default_value=None, dtype=tf.float32, normalizer_fn=None), NumericColumn(key='a51', shape=(1,), default_value=None, dtype=tf.float32, normalizer_fn=None), NumericColumn(key='a52', shape=(1,), default_value=None, dtype=tf.float32, normalizer_fn=None), NumericColumn(key='a53', shape=(1,), default_value=None, dtype=tf.float32, normalizer_fn=None), NumericColumn(key='a54', shape=(1,), default_value=None, dtype=tf.float32, normalizer_fn=None), NumericColumn(key='a55', shape=(1,), default_value=None, dtype=tf.float32, normalizer_fn=None), NumericColumn(key='a56', shape=(1,), default_value=None, dtype=tf.float32, normalizer_fn=None), NumericColumn(key='a57', shape=(1,), default_value=None, dtype=tf.float32, normalizer_fn=None), NumericColumn(key='a58', shape=(1,), default_value=None, dtype=tf.float32, normalizer_fn=None), NumericColumn(key='a59', shape=(1,), default_value=None, dtype=tf.float32, normalizer_fn=None), NumericColumn(key='a60', shape=(1,), default_value=None, dtype=tf.float32, normalizer_fn=None), NumericColumn(key='a61', shape=(1,), default_value=None, dtype=tf.float32, normalizer_fn=None), NumericColumn(key='a62', shape=(1,), default_value=None, dtype=tf.float32, normalizer_fn=None), NumericColumn(key='a63', shape=(1,), default_value=None, dtype=tf.float32, normalizer_fn=None), NumericColumn(key='a64', shape=(1,), default_value=None, dtype=tf.float32, normalizer_fn=None), NumericColumn(key='a65', shape=(1,), default_value=None, dtype=tf.float32, normalizer_fn=None), NumericColumn(key='a66', shape=(1,), default_value=None, dtype=tf.float32, normalizer_fn=None), NumericColumn(key='a67', shape=(1,), default_value=None, dtype=tf.float32, normalizer_fn=None), NumericColumn(key='a68', shape=(1,), default_value=None, dtype=tf.float32, normalizer_fn=None), NumericColumn(key='a69', shape=(1,), default_value=None, dtype=tf.float32, normalizer_fn=None), NumericColumn(key='a70', shape=(1,), default_value=None, dtype=tf.float32, normalizer_fn=None), NumericColumn(key='a71', shape=(1,), default_value=None, dtype=tf.float32, normalizer_fn=None), NumericColumn(key='a72', shape=(1,), default_value=None, dtype=tf.float32, normalizer_fn=None), NumericColumn(key='a73', shape=(1,), default_value=None, dtype=tf.float32, normalizer_fn=None), NumericColumn(key='a74', shape=(1,), default_value=None, dtype=tf.float32, normalizer_fn=None), NumericColumn(key='a75', shape=(1,), default_value=None, dtype=tf.float32, normalizer_fn=None), NumericColumn(key='a76', shape=(1,), default_value=None, dtype=tf.float32, normalizer_fn=None), NumericColumn(key='a77', shape=(1,), default_value=None, dtype=tf.float32, normalizer_fn=None), NumericColumn(key='a78', shape=(1,), default_value=None, dtype=tf.float32, normalizer_fn=None), NumericColumn(key='a79', shape=(1,), default_value=None, dtype=tf.float32, normalizer_fn=None), NumericColumn(key='a80', shape=(1,), default_value=None, dtype=tf.float32, normalizer_fn=None), NumericColumn(key='a81', shape=(1,), default_value=None, dtype=tf.float32, normalizer_fn=None), NumericColumn(key='a82', shape=(1,), default_value=None, dtype=tf.float32, normalizer_fn=None), NumericColumn(key='a83', shape=(1,), default_value=None, dtype=tf.float32, normalizer_fn=None), NumericColumn(key='a84', shape=(1,), default_value=None, dtype=tf.float32, normalizer_fn=None), NumericColumn(key='a85', shape=(1,), default_value=None, dtype=tf.float32, normalizer_fn=None), NumericColumn(key='a86', shape=(1,), default_value=None, dtype=tf.float32, normalizer_fn=None), NumericColumn(key='a87', shape=(1,), default_value=None, dtype=tf.float32, normalizer_fn=None), NumericColumn(key='a88', shape=(1,), default_value=None, dtype=tf.float32, normalizer_fn=None), NumericColumn(key='a89', shape=(1,), default_value=None, dtype=tf.float32, normalizer_fn=None), NumericColumn(key='a90', shape=(1,), default_value=None, dtype=tf.float32, normalizer_fn=None), NumericColumn(key='a91', shape=(1,), default_value=None, dtype=tf.float32, normalizer_fn=None), NumericColumn(key='a92', shape=(1,), default_value=None, dtype=tf.float32, normalizer_fn=None), NumericColumn(key='a93', shape=(1,), default_value=None, dtype=tf.float32, normalizer_fn=None), NumericColumn(key='a94', shape=(1,), default_value=None, dtype=tf.float32, normalizer_fn=None), NumericColumn(key='a95', shape=(1,), default_value=None, dtype=tf.float32, normalizer_fn=None), NumericColumn(key='a96', shape=(1,), default_value=None, dtype=tf.float32, normalizer_fn=None), NumericColumn(key='a97', shape=(1,), default_value=None, dtype=tf.float32, normalizer_fn=None), NumericColumn(key='a98', shape=(1,), default_value=None, dtype=tf.float32, normalizer_fn=None), NumericColumn(key='a99', shape=(1,), default_value=None, dtype=tf.float32, normalizer_fn=None), NumericColumn(key='a100', shape=(1,), default_value=None, dtype=tf.float32, normalizer_fn=None), NumericColumn(key='a101', shape=(1,), default_value=None, dtype=tf.float32, normalizer_fn=None), NumericColumn(key='a102', shape=(1,), default_value=None, dtype=tf.float32, normalizer_fn=None), NumericColumn(key='a103', shape=(1,), default_value=None, dtype=tf.float32, normalizer_fn=None), NumericColumn(key='a104', shape=(1,), default_value=None, dtype=tf.float32, normalizer_fn=None), NumericColumn(key='a105', shape=(1,), default_value=None, dtype=tf.float32, normalizer_fn=None), NumericColumn(key='a106', shape=(1,), default_value=None, dtype=tf.float32, normalizer_fn=None), NumericColumn(key='a107', shape=(1,), default_value=None, dtype=tf.float32, normalizer_fn=None), NumericColumn(key='a108', shape=(1,), default_value=None, dtype=tf.float32, normalizer_fn=None), NumericColumn(key='a109', shape=(1,), default_value=None, dtype=tf.float32, normalizer_fn=None), NumericColumn(key='a110', shape=(1,), default_value=None, dtype=tf.float32, normalizer_fn=None), NumericColumn(key='a111', shape=(1,), default_value=None, dtype=tf.float32, normalizer_fn=None), NumericColumn(key='a112', shape=(1,), default_value=None, dtype=tf.float32, normalizer_fn=None), NumericColumn(key='a113', shape=(1,), default_value=None, dtype=tf.float32, normalizer_fn=None), NumericColumn(key='a114', shape=(1,), default_value=None, dtype=tf.float32, normalizer_fn=None), NumericColumn(key='a115', shape=(1,), default_value=None, dtype=tf.float32, normalizer_fn=None), NumericColumn(key='a116', shape=(1,), default_value=None, dtype=tf.float32, normalizer_fn=None), NumericColumn(key='a117', shape=(1,), default_value=None, dtype=tf.float32, normalizer_fn=None), NumericColumn(key='a118', shape=(1,), default_value=None, dtype=tf.float32, normalizer_fn=None), NumericColumn(key='a119', shape=(1,), default_value=None, dtype=tf.float32, normalizer_fn=None), NumericColumn(key='a120', shape=(1,), default_value=None, dtype=tf.float32, normalizer_fn=None), NumericColumn(key='a121', shape=(1,), default_value=None, dtype=tf.float32, normalizer_fn=None), NumericColumn(key='a122', shape=(1,), default_value=None, dtype=tf.float32, normalizer_fn=None), NumericColumn(key='a123', shape=(1,), default_value=None, dtype=tf.float32, normalizer_fn=None), NumericColumn(key='a124', shape=(1,), default_value=None, dtype=tf.float32, normalizer_fn=None), NumericColumn(key='a125', shape=(1,), default_value=None, dtype=tf.float32, normalizer_fn=None), NumericColumn(key='a126', shape=(1,), default_value=None, dtype=tf.float32, normalizer_fn=None), NumericColumn(key='a127', shape=(1,), default_value=None, dtype=tf.float32, normalizer_fn=None), NumericColumn(key='a128', shape=(1,), default_value=None, dtype=tf.float32, normalizer_fn=None), NumericColumn(key='a129', shape=(1,), default_value=None, dtype=tf.float32, normalizer_fn=None), NumericColumn(key='a130', shape=(1,), default_value=None, dtype=tf.float32, normalizer_fn=None), NumericColumn(key='a131', shape=(1,), default_value=None, dtype=tf.float32, normalizer_fn=None), NumericColumn(key='a132', shape=(1,), default_value=None, dtype=tf.float32, normalizer_fn=None), NumericColumn(key='a133', shape=(1,), default_value=None, dtype=tf.float32, normalizer_fn=None), NumericColumn(key='a134', shape=(1,), default_value=None, dtype=tf.float32, normalizer_fn=None), NumericColumn(key='a135', shape=(1,), default_value=None, dtype=tf.float32, normalizer_fn=None), NumericColumn(key='a136', shape=(1,), default_value=None, dtype=tf.float32, normalizer_fn=None), NumericColumn(key='a137', shape=(1,), default_value=None, dtype=tf.float32, normalizer_fn=None), NumericColumn(key='a138', shape=(1,), default_value=None, dtype=tf.float32, normalizer_fn=None), NumericColumn(key='a139', shape=(1,), default_value=None, dtype=tf.float32, normalizer_fn=None), NumericColumn(key='a140', shape=(1,), default_value=None, dtype=tf.float32, normalizer_fn=None), NumericColumn(key='a141', shape=(1,), default_value=None, dtype=tf.float32, normalizer_fn=None), NumericColumn(key='a142', shape=(1,), default_value=None, dtype=tf.float32, normalizer_fn=None), NumericColumn(key='a143', shape=(1,), default_value=None, dtype=tf.float32, normalizer_fn=None), NumericColumn(key='a144', shape=(1,), default_value=None, dtype=tf.float32, normalizer_fn=None), NumericColumn(key='a145', shape=(1,), default_value=None, dtype=tf.float32, normalizer_fn=None), NumericColumn(key='a146', shape=(1,), default_value=None, dtype=tf.float32, normalizer_fn=None), NumericColumn(key='a147', shape=(1,), default_value=None, dtype=tf.float32, normalizer_fn=None), NumericColumn(key='a148', shape=(1,), default_value=None, dtype=tf.float32, normalizer_fn=None), NumericColumn(key='a149', shape=(1,), default_value=None, dtype=tf.float32, normalizer_fn=None), NumericColumn(key='a150', shape=(1,), default_value=None, dtype=tf.float32, normalizer_fn=None), NumericColumn(key='a151', shape=(1,), default_value=None, dtype=tf.float32, normalizer_fn=None), NumericColumn(key='a152', shape=(1,), default_value=None, dtype=tf.float32, normalizer_fn=None), NumericColumn(key='a153', shape=(1,), default_value=None, dtype=tf.float32, normalizer_fn=None), NumericColumn(key='a154', shape=(1,), default_value=None, dtype=tf.float32, normalizer_fn=None), NumericColumn(key='a155', shape=(1,), default_value=None, dtype=tf.float32, normalizer_fn=None), NumericColumn(key='a156', shape=(1,), default_value=None, dtype=tf.float32, normalizer_fn=None), NumericColumn(key='a157', shape=(1,), default_value=None, dtype=tf.float32, normalizer_fn=None), NumericColumn(key='a158', shape=(1,), default_value=None, dtype=tf.float32, normalizer_fn=None), NumericColumn(key='a159', shape=(1,), default_value=None, dtype=tf.float32, normalizer_fn=None), NumericColumn(key='a160', shape=(1,), default_value=None, dtype=tf.float32, normalizer_fn=None), NumericColumn(key='a161', shape=(1,), default_value=None, dtype=tf.float32, normalizer_fn=None), NumericColumn(key='a162', shape=(1,), default_value=None, dtype=tf.float32, normalizer_fn=None), NumericColumn(key='a163', shape=(1,), default_value=None, dtype=tf.float32, normalizer_fn=None), NumericColumn(key='a164', shape=(1,), default_value=None, dtype=tf.float32, normalizer_fn=None), NumericColumn(key='a165', shape=(1,), default_value=None, dtype=tf.float32, normalizer_fn=None), NumericColumn(key='a166', shape=(1,), default_value=None, dtype=tf.float32, normalizer_fn=None), NumericColumn(key='a167', shape=(1,), default_value=None, dtype=tf.float32, normalizer_fn=None), NumericColumn(key='a168', shape=(1,), default_value=None, dtype=tf.float32, normalizer_fn=None), NumericColumn(key='a169', shape=(1,), default_value=None, dtype=tf.float32, normalizer_fn=None), NumericColumn(key='a170', shape=(1,), default_value=None, dtype=tf.float32, normalizer_fn=None), NumericColumn(key='a171', shape=(1,), default_value=None, dtype=tf.float32, normalizer_fn=None), NumericColumn(key='a172', shape=(1,), default_value=None, dtype=tf.float32, normalizer_fn=None), NumericColumn(key='a173', shape=(1,), default_value=None, dtype=tf.float32, normalizer_fn=None), NumericColumn(key='a174', shape=(1,), default_value=None, dtype=tf.float32, normalizer_fn=None), NumericColumn(key='a175', shape=(1,), default_value=None, dtype=tf.float32, normalizer_fn=None), NumericColumn(key='a176', shape=(1,), default_value=None, dtype=tf.float32, normalizer_fn=None), NumericColumn(key='a177', shape=(1,), default_value=None, dtype=tf.float32, normalizer_fn=None), NumericColumn(key='a178', shape=(1,), default_value=None, dtype=tf.float32, normalizer_fn=None), NumericColumn(key='a179', shape=(1,), default_value=None, dtype=tf.float32, normalizer_fn=None), NumericColumn(key='a180', shape=(1,), default_value=None, dtype=tf.float32, normalizer_fn=None), NumericColumn(key='a181', shape=(1,), default_value=None, dtype=tf.float32, normalizer_fn=None), NumericColumn(key='a182', shape=(1,), default_value=None, dtype=tf.float32, normalizer_fn=None), NumericColumn(key='a183', shape=(1,), default_value=None, dtype=tf.float32, normalizer_fn=None), NumericColumn(key='a184', shape=(1,), default_value=None, dtype=tf.float32, normalizer_fn=None), NumericColumn(key='a185', shape=(1,), default_value=None, dtype=tf.float32, normalizer_fn=None), NumericColumn(key='a186', shape=(1,), default_value=None, dtype=tf.float32, normalizer_fn=None), NumericColumn(key='a187', shape=(1,), default_value=None, dtype=tf.float32, normalizer_fn=None), NumericColumn(key='a188', shape=(1,), default_value=None, dtype=tf.float32, normalizer_fn=None), NumericColumn(key='a189', shape=(1,), default_value=None, dtype=tf.float32, normalizer_fn=None), NumericColumn(key='a190', shape=(1,), default_value=None, dtype=tf.float32, normalizer_fn=None), NumericColumn(key='a191', shape=(1,), default_value=None, dtype=tf.float32, normalizer_fn=None), NumericColumn(key='a192', shape=(1,), default_value=None, dtype=tf.float32, normalizer_fn=None), NumericColumn(key='a193', shape=(1,), default_value=None, dtype=tf.float32, normalizer_fn=None), NumericColumn(key='a194', shape=(1,), default_value=None, dtype=tf.float32, normalizer_fn=None), NumericColumn(key='a195', shape=(1,), default_value=None, dtype=tf.float32, normalizer_fn=None), NumericColumn(key='a196', shape=(1,), default_value=None, dtype=tf.float32, normalizer_fn=None), NumericColumn(key='a197', shape=(1,), default_value=None, dtype=tf.float32, normalizer_fn=None), NumericColumn(key='a198', shape=(1,), default_value=None, dtype=tf.float32, normalizer_fn=None), NumericColumn(key='a199', shape=(1,), default_value=None, dtype=tf.float32, normalizer_fn=None), NumericColumn(key='a200', shape=(1,), default_value=None, dtype=tf.float32, normalizer_fn=None), NumericColumn(key='a201', shape=(1,), default_value=None, dtype=tf.float32, normalizer_fn=None), NumericColumn(key='a202', shape=(1,), default_value=None, dtype=tf.float32, normalizer_fn=None), NumericColumn(key='a203', shape=(1,), default_value=None, dtype=tf.float32, normalizer_fn=None), NumericColumn(key='a204', shape=(1,), default_value=None, dtype=tf.float32, normalizer_fn=None), NumericColumn(key='a205', shape=(1,), default_value=None, dtype=tf.float32, normalizer_fn=None), NumericColumn(key='a206', shape=(1,), default_value=None, dtype=tf.float32, normalizer_fn=None), NumericColumn(key='a207', shape=(1,), default_value=None, dtype=tf.float32, normalizer_fn=None), NumericColumn(key='a208', shape=(1,), default_value=None, dtype=tf.float32, normalizer_fn=None), NumericColumn(key='a209', shape=(1,), default_value=None, dtype=tf.float32, normalizer_fn=None), NumericColumn(key='a210', shape=(1,), default_value=None, dtype=tf.float32, normalizer_fn=None), NumericColumn(key='a211', shape=(1,), default_value=None, dtype=tf.float32, normalizer_fn=None), NumericColumn(key='a212', shape=(1,), default_value=None, dtype=tf.float32, normalizer_fn=None), NumericColumn(key='a213', shape=(1,), default_value=None, dtype=tf.float32, normalizer_fn=None), NumericColumn(key='a214', shape=(1,), default_value=None, dtype=tf.float32, normalizer_fn=None), NumericColumn(key='a215', shape=(1,), default_value=None, dtype=tf.float32, normalizer_fn=None), NumericColumn(key='a216', shape=(1,), default_value=None, dtype=tf.float32, normalizer_fn=None), NumericColumn(key='a217', shape=(1,), default_value=None, dtype=tf.float32, normalizer_fn=None), NumericColumn(key='a218', shape=(1,), default_value=None, dtype=tf.float32, normalizer_fn=None), NumericColumn(key='a219', shape=(1,), default_value=None, dtype=tf.float32, normalizer_fn=None), NumericColumn(key='a220', shape=(1,), default_value=None, dtype=tf.float32, normalizer_fn=None), NumericColumn(key='a221', shape=(1,), default_value=None, dtype=tf.float32, normalizer_fn=None), NumericColumn(key='a222', shape=(1,), default_value=None, dtype=tf.float32, normalizer_fn=None), NumericColumn(key='a223', shape=(1,), default_value=None, dtype=tf.float32, normalizer_fn=None), NumericColumn(key='a224', shape=(1,), default_value=None, dtype=tf.float32, normalizer_fn=None), NumericColumn(key='a225', shape=(1,), default_value=None, dtype=tf.float32, normalizer_fn=None), NumericColumn(key='a226', shape=(1,), default_value=None, dtype=tf.float32, normalizer_fn=None), NumericColumn(key='a227', shape=(1,), default_value=None, dtype=tf.float32, normalizer_fn=None), NumericColumn(key='a228', shape=(1,), default_value=None, dtype=tf.float32, normalizer_fn=None), NumericColumn(key='a229', shape=(1,), default_value=None, dtype=tf.float32, normalizer_fn=None), NumericColumn(key='a230', shape=(1,), default_value=None, dtype=tf.float32, normalizer_fn=None), NumericColumn(key='a231', shape=(1,), default_value=None, dtype=tf.float32, normalizer_fn=None), NumericColumn(key='a232', shape=(1,), default_value=None, dtype=tf.float32, normalizer_fn=None), NumericColumn(key='a233', shape=(1,), default_value=None, dtype=tf.float32, normalizer_fn=None), NumericColumn(key='a234', shape=(1,), default_value=None, dtype=tf.float32, normalizer_fn=None), NumericColumn(key='a235', shape=(1,), default_value=None, dtype=tf.float32, normalizer_fn=None), NumericColumn(key='a236', shape=(1,), default_value=None, dtype=tf.float32, normalizer_fn=None), NumericColumn(key='a237', shape=(1,), default_value=None, dtype=tf.float32, normalizer_fn=None), NumericColumn(key='a238', shape=(1,), default_value=None, dtype=tf.float32, normalizer_fn=None), NumericColumn(key='a239', shape=(1,), default_value=None, dtype=tf.float32, normalizer_fn=None), NumericColumn(key='a240', shape=(1,), default_value=None, dtype=tf.float32, normalizer_fn=None), NumericColumn(key='a241', shape=(1,), default_value=None, dtype=tf.float32, normalizer_fn=None), NumericColumn(key='a242', shape=(1,), default_value=None, dtype=tf.float32, normalizer_fn=None), NumericColumn(key='a243', shape=(1,), default_value=None, dtype=tf.float32, normalizer_fn=None), NumericColumn(key='a244', shape=(1,), default_value=None, dtype=tf.float32, normalizer_fn=None), NumericColumn(key='a245', shape=(1,), default_value=None, dtype=tf.float32, normalizer_fn=None), NumericColumn(key='a246', shape=(1,), default_value=None, dtype=tf.float32, normalizer_fn=None), NumericColumn(key='a247', shape=(1,), default_value=None, dtype=tf.float32, normalizer_fn=None), NumericColumn(key='a248', shape=(1,), default_value=None, dtype=tf.float32, normalizer_fn=None), NumericColumn(key='a249', shape=(1,), default_value=None, dtype=tf.float32, normalizer_fn=None), NumericColumn(key='a250', shape=(1,), default_value=None, dtype=tf.float32, normalizer_fn=None), NumericColumn(key='a251', shape=(1,), default_value=None, dtype=tf.float32, normalizer_fn=None), NumericColumn(key='a252', shape=(1,), default_value=None, dtype=tf.float32, normalizer_fn=None), NumericColumn(key='a253', shape=(1,), default_value=None, dtype=tf.float32, normalizer_fn=None), NumericColumn(key='a254', shape=(1,), default_value=None, dtype=tf.float32, normalizer_fn=None), NumericColumn(key='a255', shape=(1,), default_value=None, dtype=tf.float32, normalizer_fn=None), NumericColumn(key='a256', shape=(1,), default_value=None, dtype=tf.float32, normalizer_fn=None), NumericColumn(key='a257', shape=(1,), default_value=None, dtype=tf.float32, normalizer_fn=None), NumericColumn(key='a258', shape=(1,), default_value=None, dtype=tf.float32, normalizer_fn=None), NumericColumn(key='a259', shape=(1,), default_value=None, dtype=tf.float32, normalizer_fn=None), NumericColumn(key='a260', shape=(1,), default_value=None, dtype=tf.float32, normalizer_fn=None), NumericColumn(key='a261', shape=(1,), default_value=None, dtype=tf.float32, normalizer_fn=None), NumericColumn(key='a262', shape=(1,), default_value=None, dtype=tf.float32, normalizer_fn=None), NumericColumn(key='a263', shape=(1,), default_value=None, dtype=tf.float32, normalizer_fn=None), NumericColumn(key='a264', shape=(1,), default_value=None, dtype=tf.float32, normalizer_fn=None), NumericColumn(key='a265', shape=(1,), default_value=None, dtype=tf.float32, normalizer_fn=None), NumericColumn(key='a266', shape=(1,), default_value=None, dtype=tf.float32, normalizer_fn=None), NumericColumn(key='a267', shape=(1,), default_value=None, dtype=tf.float32, normalizer_fn=None), NumericColumn(key='a268', shape=(1,), default_value=None, dtype=tf.float32, normalizer_fn=None), NumericColumn(key='a269', shape=(1,), default_value=None, dtype=tf.float32, normalizer_fn=None), NumericColumn(key='a270', shape=(1,), default_value=None, dtype=tf.float32, normalizer_fn=None), NumericColumn(key='a271', shape=(1,), default_value=None, dtype=tf.float32, normalizer_fn=None), NumericColumn(key='a272', shape=(1,), default_value=None, dtype=tf.float32, normalizer_fn=None), NumericColumn(key='a273', shape=(1,), default_value=None, dtype=tf.float32, normalizer_fn=None), NumericColumn(key='a274', shape=(1,), default_value=None, dtype=tf.float32, normalizer_fn=None), NumericColumn(key='a275', shape=(1,), default_value=None, dtype=tf.float32, normalizer_fn=None), NumericColumn(key='a276', shape=(1,), default_value=None, dtype=tf.float32, normalizer_fn=None), NumericColumn(key='a277', shape=(1,), default_value=None, dtype=tf.float32, normalizer_fn=None), NumericColumn(key='a278', shape=(1,), default_value=None, dtype=tf.float32, normalizer_fn=None), NumericColumn(key='a279', shape=(1,), default_value=None, dtype=tf.float32, normalizer_fn=None), NumericColumn(key='a280', shape=(1,), default_value=None, dtype=tf.float32, normalizer_fn=None), NumericColumn(key='a281', shape=(1,), default_value=None, dtype=tf.float32, normalizer_fn=None), NumericColumn(key='a282', shape=(1,), default_value=None, dtype=tf.float32, normalizer_fn=None), NumericColumn(key='a283', shape=(1,), default_value=None, dtype=tf.float32, normalizer_fn=None), NumericColumn(key='a284', shape=(1,), default_value=None, dtype=tf.float32, normalizer_fn=None), NumericColumn(key='a285', shape=(1,), default_value=None, dtype=tf.float32, normalizer_fn=None), NumericColumn(key='a286', shape=(1,), default_value=None, dtype=tf.float32, normalizer_fn=None), NumericColumn(key='a287', shape=(1,), default_value=None, dtype=tf.float32, normalizer_fn=None), NumericColumn(key='a288', shape=(1,), default_value=None, dtype=tf.float32, normalizer_fn=None), NumericColumn(key='a289', shape=(1,), default_value=None, dtype=tf.float32, normalizer_fn=None), NumericColumn(key='a290', shape=(1,), default_value=None, dtype=tf.float32, normalizer_fn=None), NumericColumn(key='a291', shape=(1,), default_value=None, dtype=tf.float32, normalizer_fn=None), NumericColumn(key='a292', shape=(1,), default_value=None, dtype=tf.float32, normalizer_fn=None), NumericColumn(key='a293', shape=(1,), default_value=None, dtype=tf.float32, normalizer_fn=None), NumericColumn(key='a294', shape=(1,), default_value=None, dtype=tf.float32, normalizer_fn=None), NumericColumn(key='a295', shape=(1,), default_value=None, dtype=tf.float32, normalizer_fn=None), NumericColumn(key='a296', shape=(1,), default_value=None, dtype=tf.float32, normalizer_fn=None), NumericColumn(key='a297', shape=(1,), default_value=None, dtype=tf.float32, normalizer_fn=None), NumericColumn(key='a298', shape=(1,), default_value=None, dtype=tf.float32, normalizer_fn=None), NumericColumn(key='a299', shape=(1,), default_value=None, dtype=tf.float32, normalizer_fn=None), NumericColumn(key='a300', shape=(1,), default_value=None, dtype=tf.float32, normalizer_fn=None), NumericColumn(key='a301', shape=(1,), default_value=None, dtype=tf.float32, normalizer_fn=None), NumericColumn(key='a302', shape=(1,), default_value=None, dtype=tf.float32, normalizer_fn=None), NumericColumn(key='a303', shape=(1,), default_value=None, dtype=tf.float32, normalizer_fn=None), NumericColumn(key='a304', shape=(1,), default_value=None, dtype=tf.float32, normalizer_fn=None), NumericColumn(key='a305', shape=(1,), default_value=None, dtype=tf.float32, normalizer_fn=None), NumericColumn(key='a306', shape=(1,), default_value=None, dtype=tf.float32, normalizer_fn=None), NumericColumn(key='a307', shape=(1,), default_value=None, dtype=tf.float32, normalizer_fn=None), NumericColumn(key='a308', shape=(1,), default_value=None, dtype=tf.float32, normalizer_fn=None), NumericColumn(key='a309', shape=(1,), default_value=None, dtype=tf.float32, normalizer_fn=None), NumericColumn(key='a310', shape=(1,), default_value=None, dtype=tf.float32, normalizer_fn=None), NumericColumn(key='a311', shape=(1,), default_value=None, dtype=tf.float32, normalizer_fn=None), NumericColumn(key='a312', shape=(1,), default_value=None, dtype=tf.float32, normalizer_fn=None), NumericColumn(key='a313', shape=(1,), default_value=None, dtype=tf.float32, normalizer_fn=None), NumericColumn(key='a314', shape=(1,), default_value=None, dtype=tf.float32, normalizer_fn=None), NumericColumn(key='a315', shape=(1,), default_value=None, dtype=tf.float32, normalizer_fn=None), NumericColumn(key='a316', shape=(1,), default_value=None, dtype=tf.float32, normalizer_fn=None), NumericColumn(key='a317', shape=(1,), default_value=None, dtype=tf.float32, normalizer_fn=None), NumericColumn(key='a318', shape=(1,), default_value=None, dtype=tf.float32, normalizer_fn=None), NumericColumn(key='a319', shape=(1,), default_value=None, dtype=tf.float32, normalizer_fn=None), NumericColumn(key='a320', shape=(1,), default_value=None, dtype=tf.float32, normalizer_fn=None), NumericColumn(key='a321', shape=(1,), default_value=None, dtype=tf.float32, normalizer_fn=None), NumericColumn(key='a322', shape=(1,), default_value=None, dtype=tf.float32, normalizer_fn=None), NumericColumn(key='a323', shape=(1,), default_value=None, dtype=tf.float32, normalizer_fn=None), NumericColumn(key='a324', shape=(1,), default_value=None, dtype=tf.float32, normalizer_fn=None), NumericColumn(key='a325', shape=(1,), default_value=None, dtype=tf.float32, normalizer_fn=None), NumericColumn(key='a326', shape=(1,), default_value=None, dtype=tf.float32, normalizer_fn=None), NumericColumn(key='a327', shape=(1,), default_value=None, dtype=tf.float32, normalizer_fn=None), NumericColumn(key='a328', shape=(1,), default_value=None, dtype=tf.float32, normalizer_fn=None), NumericColumn(key='a329', shape=(1,), default_value=None, dtype=tf.float32, normalizer_fn=None), NumericColumn(key='a330', shape=(1,), default_value=None, dtype=tf.float32, normalizer_fn=None), NumericColumn(key='a331', shape=(1,), default_value=None, dtype=tf.float32, normalizer_fn=None), NumericColumn(key='a332', shape=(1,), default_value=None, dtype=tf.float32, normalizer_fn=None), NumericColumn(key='a333', shape=(1,), default_value=None, dtype=tf.float32, normalizer_fn=None), NumericColumn(key='a334', shape=(1,), default_value=None, dtype=tf.float32, normalizer_fn=None), NumericColumn(key='a335', shape=(1,), default_value=None, dtype=tf.float32, normalizer_fn=None), NumericColumn(key='a336', shape=(1,), default_value=None, dtype=tf.float32, normalizer_fn=None), NumericColumn(key='a337', shape=(1,), default_value=None, dtype=tf.float32, normalizer_fn=None), NumericColumn(key='a338', shape=(1,), default_value=None, dtype=tf.float32, normalizer_fn=None), NumericColumn(key='a339', shape=(1,), default_value=None, dtype=tf.float32, normalizer_fn=None), NumericColumn(key='a340', shape=(1,), default_value=None, dtype=tf.float32, normalizer_fn=None), NumericColumn(key='a341', shape=(1,), default_value=None, dtype=tf.float32, normalizer_fn=None), NumericColumn(key='a342', shape=(1,), default_value=None, dtype=tf.float32, normalizer_fn=None), NumericColumn(key='a343', shape=(1,), default_value=None, dtype=tf.float32, normalizer_fn=None), NumericColumn(key='a344', shape=(1,), default_value=None, dtype=tf.float32, normalizer_fn=None), NumericColumn(key='a345', shape=(1,), default_value=None, dtype=tf.float32, normalizer_fn=None), NumericColumn(key='a346', shape=(1,), default_value=None, dtype=tf.float32, normalizer_fn=None), NumericColumn(key='a347', shape=(1,), default_value=None, dtype=tf.float32, normalizer_fn=None), NumericColumn(key='a348', shape=(1,), default_value=None, dtype=tf.float32, normalizer_fn=None), NumericColumn(key='a349', shape=(1,), default_value=None, dtype=tf.float32, normalizer_fn=None), NumericColumn(key='a350', shape=(1,), default_value=None, dtype=tf.float32, normalizer_fn=None), NumericColumn(key='a351', shape=(1,), default_value=None, dtype=tf.float32, normalizer_fn=None), NumericColumn(key='a352', shape=(1,), default_value=None, dtype=tf.float32, normalizer_fn=None), NumericColumn(key='a353', shape=(1,), default_value=None, dtype=tf.float32, normalizer_fn=None), NumericColumn(key='a354', shape=(1,), default_value=None, dtype=tf.float32, normalizer_fn=None), NumericColumn(key='a355', shape=(1,), default_value=None, dtype=tf.float32, normalizer_fn=None), NumericColumn(key='a356', shape=(1,), default_value=None, dtype=tf.float32, normalizer_fn=None), NumericColumn(key='a357', shape=(1,), default_value=None, dtype=tf.float32, normalizer_fn=None), NumericColumn(key='a358', shape=(1,), default_value=None, dtype=tf.float32, normalizer_fn=None), NumericColumn(key='a359', shape=(1,), default_value=None, dtype=tf.float32, normalizer_fn=None), NumericColumn(key='a360', shape=(1,), default_value=None, dtype=tf.float32, normalizer_fn=None), NumericColumn(key='a361', shape=(1,), default_value=None, dtype=tf.float32, normalizer_fn=None), NumericColumn(key='a362', shape=(1,), default_value=None, dtype=tf.float32, normalizer_fn=None), NumericColumn(key='a363', shape=(1,), default_value=None, dtype=tf.float32, normalizer_fn=None), NumericColumn(key='a364', shape=(1,), default_value=None, dtype=tf.float32, normalizer_fn=None), NumericColumn(key='a365', shape=(1,), default_value=None, dtype=tf.float32, normalizer_fn=None), NumericColumn(key='a366', shape=(1,), default_value=None, dtype=tf.float32, normalizer_fn=None), NumericColumn(key='a367', shape=(1,), default_value=None, dtype=tf.float32, normalizer_fn=None), NumericColumn(key='a368', shape=(1,), default_value=None, dtype=tf.float32, normalizer_fn=None), NumericColumn(key='a369', shape=(1,), default_value=None, dtype=tf.float32, normalizer_fn=None), NumericColumn(key='a370', shape=(1,), default_value=None, dtype=tf.float32, normalizer_fn=None), NumericColumn(key='a371', shape=(1,), default_value=None, dtype=tf.float32, normalizer_fn=None), NumericColumn(key='a372', shape=(1,), default_value=None, dtype=tf.float32, normalizer_fn=None), NumericColumn(key='a373', shape=(1,), default_value=None, dtype=tf.float32, normalizer_fn=None), NumericColumn(key='a374', shape=(1,), default_value=None, dtype=tf.float32, normalizer_fn=None), NumericColumn(key='a375', shape=(1,), default_value=None, dtype=tf.float32, normalizer_fn=None), NumericColumn(key='a376', shape=(1,), default_value=None, dtype=tf.float32, normalizer_fn=None), NumericColumn(key='a377', shape=(1,), default_value=None, dtype=tf.float32, normalizer_fn=None), NumericColumn(key='a378', shape=(1,), default_value=None, dtype=tf.float32, normalizer_fn=None), NumericColumn(key='a379', shape=(1,), default_value=None, dtype=tf.float32, normalizer_fn=None), NumericColumn(key='a380', shape=(1,), default_value=None, dtype=tf.float32, normalizer_fn=None), NumericColumn(key='a381', shape=(1,), default_value=None, dtype=tf.float32, normalizer_fn=None), NumericColumn(key='a382', shape=(1,), default_value=None, dtype=tf.float32, normalizer_fn=None), NumericColumn(key='a383', shape=(1,), default_value=None, dtype=tf.float32, normalizer_fn=None), NumericColumn(key='a384', shape=(1,), default_value=None, dtype=tf.float32, normalizer_fn=None), NumericColumn(key='a385', shape=(1,), default_value=None, dtype=tf.float32, normalizer_fn=None), NumericColumn(key='a386', shape=(1,), default_value=None, dtype=tf.float32, normalizer_fn=None), NumericColumn(key='a387', shape=(1,), default_value=None, dtype=tf.float32, normalizer_fn=None), NumericColumn(key='a388', shape=(1,), default_value=None, dtype=tf.float32, normalizer_fn=None), NumericColumn(key='a389', shape=(1,), default_value=None, dtype=tf.float32, normalizer_fn=None), NumericColumn(key='a390', shape=(1,), default_value=None, dtype=tf.float32, normalizer_fn=None), NumericColumn(key='a391', shape=(1,), default_value=None, dtype=tf.float32, normalizer_fn=None), NumericColumn(key='a392', shape=(1,), default_value=None, dtype=tf.float32, normalizer_fn=None), NumericColumn(key='a393', shape=(1,), default_value=None, dtype=tf.float32, normalizer_fn=None), NumericColumn(key='a394', shape=(1,), default_value=None, dtype=tf.float32, normalizer_fn=None), NumericColumn(key='a395', shape=(1,), default_value=None, dtype=tf.float32, normalizer_fn=None), NumericColumn(key='a396', shape=(1,), default_value=None, dtype=tf.float32, normalizer_fn=None), NumericColumn(key='a397', shape=(1,), default_value=None, dtype=tf.float32, normalizer_fn=None), NumericColumn(key='a398', shape=(1,), default_value=None, dtype=tf.float32, normalizer_fn=None), NumericColumn(key='a399', shape=(1,), default_value=None, dtype=tf.float32, normalizer_fn=None), NumericColumn(key='a400', shape=(1,), default_value=None, dtype=tf.float32, normalizer_fn=None), NumericColumn(key='a401', shape=(1,), default_value=None, dtype=tf.float32, normalizer_fn=None), NumericColumn(key='a402', shape=(1,), default_value=None, dtype=tf.float32, normalizer_fn=None), NumericColumn(key='a403', shape=(1,), default_value=None, dtype=tf.float32, normalizer_fn=None), NumericColumn(key='a404', shape=(1,), default_value=None, dtype=tf.float32, normalizer_fn=None), NumericColumn(key='a405', shape=(1,), default_value=None, dtype=tf.float32, normalizer_fn=None), NumericColumn(key='a406', shape=(1,), default_value=None, dtype=tf.float32, normalizer_fn=None), NumericColumn(key='a407', shape=(1,), default_value=None, dtype=tf.float32, normalizer_fn=None), NumericColumn(key='a408', shape=(1,), default_value=None, dtype=tf.float32, normalizer_fn=None), NumericColumn(key='a409', shape=(1,), default_value=None, dtype=tf.float32, normalizer_fn=None), NumericColumn(key='a410', shape=(1,), default_value=None, dtype=tf.float32, normalizer_fn=None), NumericColumn(key='a411', shape=(1,), default_value=None, dtype=tf.float32, normalizer_fn=None), NumericColumn(key='a412', shape=(1,), default_value=None, dtype=tf.float32, normalizer_fn=None), NumericColumn(key='a413', shape=(1,), default_value=None, dtype=tf.float32, normalizer_fn=None), NumericColumn(key='a414', shape=(1,), default_value=None, dtype=tf.float32, normalizer_fn=None), NumericColumn(key='a415', shape=(1,), default_value=None, dtype=tf.float32, normalizer_fn=None), NumericColumn(key='a416', shape=(1,), default_value=None, dtype=tf.float32, normalizer_fn=None), NumericColumn(key='a417', shape=(1,), default_value=None, dtype=tf.float32, normalizer_fn=None), NumericColumn(key='a418', shape=(1,), default_value=None, dtype=tf.float32, normalizer_fn=None), NumericColumn(key='a419', shape=(1,), default_value=None, dtype=tf.float32, normalizer_fn=None), NumericColumn(key='a420', shape=(1,), default_value=None, dtype=tf.float32, normalizer_fn=None), NumericColumn(key='a421', shape=(1,), default_value=None, dtype=tf.float32, normalizer_fn=None), NumericColumn(key='a422', shape=(1,), default_value=None, dtype=tf.float32, normalizer_fn=None), NumericColumn(key='a423', shape=(1,), default_value=None, dtype=tf.float32, normalizer_fn=None), NumericColumn(key='a424', shape=(1,), default_value=None, dtype=tf.float32, normalizer_fn=None), NumericColumn(key='a425', shape=(1,), default_value=None, dtype=tf.float32, normalizer_fn=None), NumericColumn(key='a426', shape=(1,), default_value=None, dtype=tf.float32, normalizer_fn=None), NumericColumn(key='a427', shape=(1,), default_value=None, dtype=tf.float32, normalizer_fn=None), NumericColumn(key='a428', shape=(1,), default_value=None, dtype=tf.float32, normalizer_fn=None), NumericColumn(key='a429', shape=(1,), default_value=None, dtype=tf.float32, normalizer_fn=None), NumericColumn(key='a430', shape=(1,), default_value=None, dtype=tf.float32, normalizer_fn=None), NumericColumn(key='a431', shape=(1,), default_value=None, dtype=tf.float32, normalizer_fn=None), NumericColumn(key='a432', shape=(1,), default_value=None, dtype=tf.float32, normalizer_fn=None), NumericColumn(key='a433', shape=(1,), default_value=None, dtype=tf.float32, normalizer_fn=None), NumericColumn(key='a434', shape=(1,), default_value=None, dtype=tf.float32, normalizer_fn=None), NumericColumn(key='a435', shape=(1,), default_value=None, dtype=tf.float32, normalizer_fn=None), NumericColumn(key='a436', shape=(1,), default_value=None, dtype=tf.float32, normalizer_fn=None), NumericColumn(key='a437', shape=(1,), default_value=None, dtype=tf.float32, normalizer_fn=None), NumericColumn(key='a438', shape=(1,), default_value=None, dtype=tf.float32, normalizer_fn=None), NumericColumn(key='a439', shape=(1,), default_value=None, dtype=tf.float32, normalizer_fn=None), NumericColumn(key='a440', shape=(1,), default_value=None, dtype=tf.float32, normalizer_fn=None), NumericColumn(key='a441', shape=(1,), default_value=None, dtype=tf.float32, normalizer_fn=None), NumericColumn(key='a442', shape=(1,), default_value=None, dtype=tf.float32, normalizer_fn=None), NumericColumn(key='a443', shape=(1,), default_value=None, dtype=tf.float32, normalizer_fn=None), NumericColumn(key='a444', shape=(1,), default_value=None, dtype=tf.float32, normalizer_fn=None), NumericColumn(key='a445', shape=(1,), default_value=None, dtype=tf.float32, normalizer_fn=None), NumericColumn(key='a446', shape=(1,), default_value=None, dtype=tf.float32, normalizer_fn=None), NumericColumn(key='a447', shape=(1,), default_value=None, dtype=tf.float32, normalizer_fn=None), NumericColumn(key='a448', shape=(1,), default_value=None, dtype=tf.float32, normalizer_fn=None), NumericColumn(key='a449', shape=(1,), default_value=None, dtype=tf.float32, normalizer_fn=None), NumericColumn(key='a450', shape=(1,), default_value=None, dtype=tf.float32, normalizer_fn=None), NumericColumn(key='a451', shape=(1,), default_value=None, dtype=tf.float32, normalizer_fn=None), NumericColumn(key='a452', shape=(1,), default_value=None, dtype=tf.float32, normalizer_fn=None), NumericColumn(key='a453', shape=(1,), default_value=None, dtype=tf.float32, normalizer_fn=None), NumericColumn(key='a454', shape=(1,), default_value=None, dtype=tf.float32, normalizer_fn=None), NumericColumn(key='a455', shape=(1,), default_value=None, dtype=tf.float32, normalizer_fn=None), NumericColumn(key='a456', shape=(1,), default_value=None, dtype=tf.float32, normalizer_fn=None), NumericColumn(key='a457', shape=(1,), default_value=None, dtype=tf.float32, normalizer_fn=None), NumericColumn(key='a458', shape=(1,), default_value=None, dtype=tf.float32, normalizer_fn=None), NumericColumn(key='a459', shape=(1,), default_value=None, dtype=tf.float32, normalizer_fn=None), NumericColumn(key='a460', shape=(1,), default_value=None, dtype=tf.float32, normalizer_fn=None), NumericColumn(key='a461', shape=(1,), default_value=None, dtype=tf.float32, normalizer_fn=None), NumericColumn(key='a462', shape=(1,), default_value=None, dtype=tf.float32, normalizer_fn=None), NumericColumn(key='a463', shape=(1,), default_value=None, dtype=tf.float32, normalizer_fn=None), NumericColumn(key='a464', shape=(1,), default_value=None, dtype=tf.float32, normalizer_fn=None), NumericColumn(key='a465', shape=(1,), default_value=None, dtype=tf.float32, normalizer_fn=None), NumericColumn(key='a466', shape=(1,), default_value=None, dtype=tf.float32, normalizer_fn=None), NumericColumn(key='a467', shape=(1,), default_value=None, dtype=tf.float32, normalizer_fn=None), NumericColumn(key='a468', shape=(1,), default_value=None, dtype=tf.float32, normalizer_fn=None), NumericColumn(key='a469', shape=(1,), default_value=None, dtype=tf.float32, normalizer_fn=None), NumericColumn(key='a470', shape=(1,), default_value=None, dtype=tf.float32, normalizer_fn=None), NumericColumn(key='a471', shape=(1,), default_value=None, dtype=tf.float32, normalizer_fn=None), NumericColumn(key='a472', shape=(1,), default_value=None, dtype=tf.float32, normalizer_fn=None), NumericColumn(key='a473', shape=(1,), default_value=None, dtype=tf.float32, normalizer_fn=None), NumericColumn(key='a474', shape=(1,), default_value=None, dtype=tf.float32, normalizer_fn=None), NumericColumn(key='a475', shape=(1,), default_value=None, dtype=tf.float32, normalizer_fn=None), NumericColumn(key='a476', shape=(1,), default_value=None, dtype=tf.float32, normalizer_fn=None), NumericColumn(key='a477', shape=(1,), default_value=None, dtype=tf.float32, normalizer_fn=None), NumericColumn(key='a478', shape=(1,), default_value=None, dtype=tf.float32, normalizer_fn=None), NumericColumn(key='a479', shape=(1,), default_value=None, dtype=tf.float32, normalizer_fn=None), NumericColumn(key='a480', shape=(1,), default_value=None, dtype=tf.float32, normalizer_fn=None), NumericColumn(key='a481', shape=(1,), default_value=None, dtype=tf.float32, normalizer_fn=None), NumericColumn(key='a482', shape=(1,), default_value=None, dtype=tf.float32, normalizer_fn=None), NumericColumn(key='a483', shape=(1,), default_value=None, dtype=tf.float32, normalizer_fn=None), NumericColumn(key='a484', shape=(1,), default_value=None, dtype=tf.float32, normalizer_fn=None), NumericColumn(key='a485', shape=(1,), default_value=None, dtype=tf.float32, normalizer_fn=None), NumericColumn(key='a486', shape=(1,), default_value=None, dtype=tf.float32, normalizer_fn=None), NumericColumn(key='a487', shape=(1,), default_value=None, dtype=tf.float32, normalizer_fn=None), NumericColumn(key='a488', shape=(1,), default_value=None, dtype=tf.float32, normalizer_fn=None), NumericColumn(key='a489', shape=(1,), default_value=None, dtype=tf.float32, normalizer_fn=None), NumericColumn(key='a490', shape=(1,), default_value=None, dtype=tf.float32, normalizer_fn=None), NumericColumn(key='a491', shape=(1,), default_value=None, dtype=tf.float32, normalizer_fn=None), NumericColumn(key='a492', shape=(1,), default_value=None, dtype=tf.float32, normalizer_fn=None), NumericColumn(key='a493', shape=(1,), default_value=None, dtype=tf.float32, normalizer_fn=None), NumericColumn(key='a494', shape=(1,), default_value=None, dtype=tf.float32, normalizer_fn=None), NumericColumn(key='a495', shape=(1,), default_value=None, dtype=tf.float32, normalizer_fn=None), NumericColumn(key='a496', shape=(1,), default_value=None, dtype=tf.float32, normalizer_fn=None), NumericColumn(key='a497', shape=(1,), default_value=None, dtype=tf.float32, normalizer_fn=None), NumericColumn(key='a498', shape=(1,), default_value=None, dtype=tf.float32, normalizer_fn=None), NumericColumn(key='a499', shape=(1,), default_value=None, dtype=tf.float32, normalizer_fn=None), NumericColumn(key='a500', shape=(1,), default_value=None, dtype=tf.float32, normalizer_fn=None), NumericColumn(key='a501', shape=(1,), default_value=None, dtype=tf.float32, normalizer_fn=None), NumericColumn(key='a502', shape=(1,), default_value=None, dtype=tf.float32, normalizer_fn=None), NumericColumn(key='a503', shape=(1,), default_value=None, dtype=tf.float32, normalizer_fn=None), NumericColumn(key='a504', shape=(1,), default_value=None, dtype=tf.float32, normalizer_fn=None), NumericColumn(key='a505', shape=(1,), default_value=None, dtype=tf.float32, normalizer_fn=None), NumericColumn(key='a506', shape=(1,), default_value=None, dtype=tf.float32, normalizer_fn=None), NumericColumn(key='a507', shape=(1,), default_value=None, dtype=tf.float32, normalizer_fn=None), NumericColumn(key='a508', shape=(1,), default_value=None, dtype=tf.float32, normalizer_fn=None), NumericColumn(key='a509', shape=(1,), default_value=None, dtype=tf.float32, normalizer_fn=None), NumericColumn(key='a510', shape=(1,), default_value=None, dtype=tf.float32, normalizer_fn=None), NumericColumn(key='a511', shape=(1,), default_value=None, dtype=tf.float32, normalizer_fn=None), NumericColumn(key='a512', shape=(1,), default_value=None, dtype=tf.float32, normalizer_fn=None), NumericColumn(key='a513', shape=(1,), default_value=None, dtype=tf.float32, normalizer_fn=None), NumericColumn(key='a514', shape=(1,), default_value=None, dtype=tf.float32, normalizer_fn=None), NumericColumn(key='a515', shape=(1,), default_value=None, dtype=tf.float32, normalizer_fn=None), NumericColumn(key='a516', shape=(1,), default_value=None, dtype=tf.float32, normalizer_fn=None), NumericColumn(key='a517', shape=(1,), default_value=None, dtype=tf.float32, normalizer_fn=None), NumericColumn(key='a518', shape=(1,), default_value=None, dtype=tf.float32, normalizer_fn=None), NumericColumn(key='a519', shape=(1,), default_value=None, dtype=tf.float32, normalizer_fn=None), NumericColumn(key='a520', shape=(1,), default_value=None, dtype=tf.float32, normalizer_fn=None), NumericColumn(key='a521', shape=(1,), default_value=None, dtype=tf.float32, normalizer_fn=None), NumericColumn(key='a522', shape=(1,), default_value=None, dtype=tf.float32, normalizer_fn=None), NumericColumn(key='a523', shape=(1,), default_value=None, dtype=tf.float32, normalizer_fn=None), NumericColumn(key='a524', shape=(1,), default_value=None, dtype=tf.float32, normalizer_fn=None), NumericColumn(key='a525', shape=(1,), default_value=None, dtype=tf.float32, normalizer_fn=None), NumericColumn(key='a526', shape=(1,), default_value=None, dtype=tf.float32, normalizer_fn=None), NumericColumn(key='a527', shape=(1,), default_value=None, dtype=tf.float32, normalizer_fn=None), NumericColumn(key='a528', shape=(1,), default_value=None, dtype=tf.float32, normalizer_fn=None), NumericColumn(key='a529', shape=(1,), default_value=None, dtype=tf.float32, normalizer_fn=None), NumericColumn(key='a530', shape=(1,), default_value=None, dtype=tf.float32, normalizer_fn=None), NumericColumn(key='a531', shape=(1,), default_value=None, dtype=tf.float32, normalizer_fn=None), NumericColumn(key='a532', shape=(1,), default_value=None, dtype=tf.float32, normalizer_fn=None), NumericColumn(key='a533', shape=(1,), default_value=None, dtype=tf.float32, normalizer_fn=None), NumericColumn(key='a534', shape=(1,), default_value=None, dtype=tf.float32, normalizer_fn=None), NumericColumn(key='a535', shape=(1,), default_value=None, dtype=tf.float32, normalizer_fn=None), NumericColumn(key='a536', shape=(1,), default_value=None, dtype=tf.float32, normalizer_fn=None), NumericColumn(key='a537', shape=(1,), default_value=None, dtype=tf.float32, normalizer_fn=None), NumericColumn(key='a538', shape=(1,), default_value=None, dtype=tf.float32, normalizer_fn=None), NumericColumn(key='a539', shape=(1,), default_value=None, dtype=tf.float32, normalizer_fn=None), NumericColumn(key='a540', shape=(1,), default_value=None, dtype=tf.float32, normalizer_fn=None), NumericColumn(key='a541', shape=(1,), default_value=None, dtype=tf.float32, normalizer_fn=None), NumericColumn(key='a542', shape=(1,), default_value=None, dtype=tf.float32, normalizer_fn=None), NumericColumn(key='a543', shape=(1,), default_value=None, dtype=tf.float32, normalizer_fn=None), NumericColumn(key='a544', shape=(1,), default_value=None, dtype=tf.float32, normalizer_fn=None), NumericColumn(key='a545', shape=(1,), default_value=None, dtype=tf.float32, normalizer_fn=None), NumericColumn(key='a546', shape=(1,), default_value=None, dtype=tf.float32, normalizer_fn=None), NumericColumn(key='a547', shape=(1,), default_value=None, dtype=tf.float32, normalizer_fn=None), NumericColumn(key='a548', shape=(1,), default_value=None, dtype=tf.float32, normalizer_fn=None), NumericColumn(key='a549', shape=(1,), default_value=None, dtype=tf.float32, normalizer_fn=None), NumericColumn(key='a550', shape=(1,), default_value=None, dtype=tf.float32, normalizer_fn=None), NumericColumn(key='a551', shape=(1,), default_value=None, dtype=tf.float32, normalizer_fn=None), NumericColumn(key='a552', shape=(1,), default_value=None, dtype=tf.float32, normalizer_fn=None), NumericColumn(key='a553', shape=(1,), default_value=None, dtype=tf.float32, normalizer_fn=None), NumericColumn(key='a554', shape=(1,), default_value=None, dtype=tf.float32, normalizer_fn=None), NumericColumn(key='a555', shape=(1,), default_value=None, dtype=tf.float32, normalizer_fn=None), NumericColumn(key='a556', shape=(1,), default_value=None, dtype=tf.float32, normalizer_fn=None), NumericColumn(key='a557', shape=(1,), default_value=None, dtype=tf.float32, normalizer_fn=None), NumericColumn(key='a558', shape=(1,), default_value=None, dtype=tf.float32, normalizer_fn=None), NumericColumn(key='a559', shape=(1,), default_value=None, dtype=tf.float32, normalizer_fn=None), NumericColumn(key='a560', shape=(1,), default_value=None, dtype=tf.float32, normalizer_fn=None), NumericColumn(key='a561', shape=(1,), default_value=None, dtype=tf.float32, normalizer_fn=None), NumericColumn(key='a562', shape=(1,), default_value=None, dtype=tf.float32, normalizer_fn=None), NumericColumn(key='a563', shape=(1,), default_value=None, dtype=tf.float32, normalizer_fn=None), NumericColumn(key='a564', shape=(1,), default_value=None, dtype=tf.float32, normalizer_fn=None), NumericColumn(key='a565', shape=(1,), default_value=None, dtype=tf.float32, normalizer_fn=None), NumericColumn(key='a566', shape=(1,), default_value=None, dtype=tf.float32, normalizer_fn=None), NumericColumn(key='a567', shape=(1,), default_value=None, dtype=tf.float32, normalizer_fn=None), NumericColumn(key='a568', shape=(1,), default_value=None, dtype=tf.float32, normalizer_fn=None), NumericColumn(key='a569', shape=(1,), default_value=None, dtype=tf.float32, normalizer_fn=None), NumericColumn(key='a570', shape=(1,), default_value=None, dtype=tf.float32, normalizer_fn=None), NumericColumn(key='a571', shape=(1,), default_value=None, dtype=tf.float32, normalizer_fn=None), NumericColumn(key='a572', shape=(1,), default_value=None, dtype=tf.float32, normalizer_fn=None), NumericColumn(key='a573', shape=(1,), default_value=None, dtype=tf.float32, normalizer_fn=None), NumericColumn(key='a574', shape=(1,), default_value=None, dtype=tf.float32, normalizer_fn=None), NumericColumn(key='a575', shape=(1,), default_value=None, dtype=tf.float32, normalizer_fn=None), NumericColumn(key='a576', shape=(1,), default_value=None, dtype=tf.float32, normalizer_fn=None), NumericColumn(key='a577', shape=(1,), default_value=None, dtype=tf.float32, normalizer_fn=None), NumericColumn(key='a578', shape=(1,), default_value=None, dtype=tf.float32, normalizer_fn=None), NumericColumn(key='a579', shape=(1,), default_value=None, dtype=tf.float32, normalizer_fn=None), NumericColumn(key='a580', shape=(1,), default_value=None, dtype=tf.float32, normalizer_fn=None), NumericColumn(key='a581', shape=(1,), default_value=None, dtype=tf.float32, normalizer_fn=None), NumericColumn(key='a582', shape=(1,), default_value=None, dtype=tf.float32, normalizer_fn=None), NumericColumn(key='a583', shape=(1,), default_value=None, dtype=tf.float32, normalizer_fn=None), NumericColumn(key='a584', shape=(1,), default_value=None, dtype=tf.float32, normalizer_fn=None), NumericColumn(key='a585', shape=(1,), default_value=None, dtype=tf.float32, normalizer_fn=None), NumericColumn(key='a586', shape=(1,), default_value=None, dtype=tf.float32, normalizer_fn=None), NumericColumn(key='a587', shape=(1,), default_value=None, dtype=tf.float32, normalizer_fn=None), NumericColumn(key='a588', shape=(1,), default_value=None, dtype=tf.float32, normalizer_fn=None), NumericColumn(key='a589', shape=(1,), default_value=None, dtype=tf.float32, normalizer_fn=None), NumericColumn(key='a590', shape=(1,), default_value=None, dtype=tf.float32, normalizer_fn=None), NumericColumn(key='a591', shape=(1,), default_value=None, dtype=tf.float32, normalizer_fn=None), NumericColumn(key='a592', shape=(1,), default_value=None, dtype=tf.float32, normalizer_fn=None), NumericColumn(key='a593', shape=(1,), default_value=None, dtype=tf.float32, normalizer_fn=None), NumericColumn(key='a594', shape=(1,), default_value=None, dtype=tf.float32, normalizer_fn=None), NumericColumn(key='a595', shape=(1,), default_value=None, dtype=tf.float32, normalizer_fn=None), NumericColumn(key='a596', shape=(1,), default_value=None, dtype=tf.float32, normalizer_fn=None), NumericColumn(key='a597', shape=(1,), default_value=None, dtype=tf.float32, normalizer_fn=None), NumericColumn(key='a598', shape=(1,), default_value=None, dtype=tf.float32, normalizer_fn=None), NumericColumn(key='a599', shape=(1,), default_value=None, dtype=tf.float32, normalizer_fn=None)]\n"
          ],
          "name": "stdout"
        }
      ]
    },
    {
      "metadata": {
        "id": "6fGFlc8bgJdB",
        "colab_type": "code",
        "colab": {}
      },
      "cell_type": "code",
      "source": [
        "def my_model_fn(features,labels,mode,params):\n",
        "    '''\n",
        "    The purpose of this function is to define my custom estimator.\n",
        "    '''\n",
        "    net = tf.feature_column.input_layer(features, params['feature_columns']) ## define the input layer by the feature columns.\n",
        "    \n",
        "    for units in params['hidden_units']:\n",
        "        net = tf.layers.dense(net, units=units, activation=tf.nn.relu) ## define the hidden layer by the number of hidden layer and the number of neurons in each layer\n",
        "    \n",
        "    logits = tf.layers.dense(net, params['n_classes'], activation=None) ## define the output layer by the classify number.\n",
        "    \n",
        "    ## define the prediction part\n",
        "    predicted_classes = tf.argmax(logits, 1) ## The maximum result is the prediction result.\n",
        "    if mode == tf.estimator.ModeKeys.PREDICT:\n",
        "        predictions = {\n",
        "            'class_ids': predicted_classes[:, tf.newaxis], ## change it to the list [[a],[b]]\n",
        "            'probabilities': tf.nn.softmax(logits), ## normalization\n",
        "            'logits': logits,\n",
        "        }\n",
        "        return tf.estimator.EstimatorSpec(mode, predictions=predictions)\n",
        "      \n",
        "    ## define the loss function.\n",
        "    loss = tf.losses.sparse_softmax_cross_entropy(labels=labels, logits=logits)\n",
        "    \n",
        "    ## define the training process.\n",
        "    if mode == tf.estimator.ModeKeys.TRAIN:\n",
        "        # optimizer = tf.train.AdagradOptimizer(learning_rate=0.001) # optimize the loss function to reduce the loss and improve the accuracy.\n",
        "        optimizer = tf.train.AdamOptimizer(learning_rate = 0.001)\n",
        "        # optimizer = tf.train.GradientDescentOptimizer(learning_rate = 0.001)\n",
        "        # optimizer = tf.train.MomentumOptimizer(learning_rate = 0.001)\n",
        "        # optimizer = tf.train.RMSPropOptimizer(learning_rate = 0.001)\n",
        "        train_op = optimizer.minimize(loss, global_step=tf.train.get_global_step())  # optimization\n",
        "        return tf.estimator.EstimatorSpec(mode, loss=loss, train_op=train_op)\n",
        "      \n",
        "    ## define the evaluation process.\n",
        "    accuracy = tf.metrics.accuracy(labels = labels,\n",
        "                                   predictions = predicted_classes)\n",
        "    auc = tf.metrics.auc(labels = labels,\n",
        "                         predictions = predicted_classes)\n",
        "    precision = tf.metrics.precision(labels =labels,\n",
        "                                     predictions = predicted_classes)\n",
        "    recall = tf.metrics.recall(labels =labels,\n",
        "                               predictions = predicted_classes)\n",
        "    metrics = {'accuracy': accuracy, 'AUC': auc, 'precision': precision, 'recall': recall}\n",
        "    if mode == tf.estimator.ModeKeys.EVAL:\n",
        "        return tf.estimator.EstimatorSpec(mode, loss=loss, eval_metric_ops=metrics) "
      ],
      "execution_count": 0,
      "outputs": []
    },
    {
      "metadata": {
        "id": "HwSShGlXgLf9",
        "colab_type": "code",
        "outputId": "f2b7e76a-5324-409a-f224-ddb85a59a260",
        "colab": {
          "base_uri": "https://localhost:8080/",
          "height": 173
        }
      },
      "cell_type": "code",
      "source": [
        "'''\n",
        "Define the model, including the model, hidden layer and the number of classification\n",
        "'''\n",
        "classifier = tf.estimator.Estimator(\n",
        "        model_fn = my_model_fn,\n",
        "        model_dir = PATH + 'model_Subtask6/',\n",
        "        params = {\n",
        "            'feature_columns': my_feature_columns,\n",
        "            'hidden_units': [512, 512],\n",
        "            'n_classes': 2,\n",
        "        })"
      ],
      "execution_count": 0,
      "outputs": [
        {
          "output_type": "stream",
          "text": [
            "INFO:tensorflow:Using default config.\n",
            "INFO:tensorflow:Using config: {'_model_dir': '/content/gdrive/My Drive/IRDM_CHFX2/model_Subtask6/', '_tf_random_seed': None, '_save_summary_steps': 100, '_save_checkpoints_steps': None, '_save_checkpoints_secs': 600, '_session_config': allow_soft_placement: true\n",
            "graph_options {\n",
            "  rewrite_options {\n",
            "    meta_optimizer_iterations: ONE\n",
            "  }\n",
            "}\n",
            ", '_keep_checkpoint_max': 5, '_keep_checkpoint_every_n_hours': 10000, '_log_step_count_steps': 100, '_train_distribute': None, '_device_fn': None, '_protocol': None, '_eval_distribute': None, '_experimental_distribute': None, '_service': None, '_cluster_spec': <tensorflow.python.training.server_lib.ClusterSpec object at 0x7f038cdab1d0>, '_task_type': 'worker', '_task_id': 0, '_global_id_in_cluster': 0, '_master': '', '_evaluation_master': '', '_is_chief': True, '_num_ps_replicas': 0, '_num_worker_replicas': 1}\n"
          ],
          "name": "stdout"
        }
      ]
    },
    {
      "metadata": {
        "id": "S1z0oIargNFM",
        "colab_type": "code",
        "colab": {}
      },
      "cell_type": "code",
      "source": [
        "'''\n",
        "The number of training examples utilized in one iteration is 256 and randomly adjust the data order in each iteration.\n",
        "'''\n",
        "batch_size = 128\n",
        "def train_input_fn(features, labels, batch_size):\n",
        "    dataset = tf.data.Dataset.from_tensor_slices((dict(features), labels))\n",
        "    dataset = dataset.shuffle(1000).repeat().batch(batch_size) # randomly adjust the data order\n",
        "    return dataset.make_one_shot_iterator().get_next()"
      ],
      "execution_count": 0,
      "outputs": []
    },
    {
      "metadata": {
        "id": "GAxU9WgUgObz",
        "colab_type": "code",
        "outputId": "c5a03b0a-cc14-4a55-dae5-4a0ddb81e7ae",
        "colab": {
          "base_uri": "https://localhost:8080/",
          "height": 1346
        }
      },
      "cell_type": "code",
      "source": [
        "'''\n",
        "Begin training and the step is 2500.\n",
        "'''\n",
        "classifier.train(\n",
        "    input_fn=lambda:train_input_fn(train_x, train_y, batch_size),\n",
        "    steps = 2500)"
      ],
      "execution_count": 0,
      "outputs": [
        {
          "output_type": "stream",
          "text": [
            "WARNING:tensorflow:From /usr/local/lib/python3.6/dist-packages/tensorflow/python/framework/op_def_library.py:263: colocate_with (from tensorflow.python.framework.ops) is deprecated and will be removed in a future version.\n",
            "Instructions for updating:\n",
            "Colocations handled automatically by placer.\n",
            "INFO:tensorflow:Calling model_fn.\n",
            "WARNING:tensorflow:From /usr/local/lib/python3.6/dist-packages/tensorflow/python/feature_column/feature_column.py:205: NumericColumn._get_dense_tensor (from tensorflow.python.feature_column.feature_column_v2) is deprecated and will be removed after 2018-11-30.\n",
            "Instructions for updating:\n",
            "The old _FeatureColumn APIs are being deprecated. Please use the new FeatureColumn APIs instead.\n",
            "WARNING:tensorflow:From /usr/local/lib/python3.6/dist-packages/tensorflow/python/feature_column/feature_column.py:2121: NumericColumn._transform_feature (from tensorflow.python.feature_column.feature_column_v2) is deprecated and will be removed after 2018-11-30.\n",
            "Instructions for updating:\n",
            "The old _FeatureColumn APIs are being deprecated. Please use the new FeatureColumn APIs instead.\n",
            "WARNING:tensorflow:From /usr/local/lib/python3.6/dist-packages/tensorflow/python/feature_column/feature_column_v2.py:2703: to_float (from tensorflow.python.ops.math_ops) is deprecated and will be removed in a future version.\n",
            "Instructions for updating:\n",
            "Use tf.cast instead.\n",
            "WARNING:tensorflow:From /usr/local/lib/python3.6/dist-packages/tensorflow/python/feature_column/feature_column.py:206: NumericColumn._variable_shape (from tensorflow.python.feature_column.feature_column_v2) is deprecated and will be removed after 2018-11-30.\n",
            "Instructions for updating:\n",
            "The old _FeatureColumn APIs are being deprecated. Please use the new FeatureColumn APIs instead.\n",
            "WARNING:tensorflow:From <ipython-input-7-d3913a208a9b>:8: dense (from tensorflow.python.layers.core) is deprecated and will be removed in a future version.\n",
            "Instructions for updating:\n",
            "Use keras.layers.dense instead.\n",
            "INFO:tensorflow:Done calling model_fn.\n",
            "INFO:tensorflow:Create CheckpointSaverHook.\n",
            "INFO:tensorflow:Graph was finalized.\n",
            "INFO:tensorflow:Running local_init_op.\n",
            "INFO:tensorflow:Done running local_init_op.\n",
            "INFO:tensorflow:Saving checkpoints for 0 into /content/gdrive/My Drive/IRDM_CHFX2/model_Subtask6/model.ckpt.\n",
            "INFO:tensorflow:loss = 0.6260649, step = 1\n",
            "INFO:tensorflow:global_step/sec: 7.83832\n",
            "INFO:tensorflow:loss = 0.31583118, step = 101 (12.763 sec)\n",
            "INFO:tensorflow:global_step/sec: 10.3319\n",
            "INFO:tensorflow:loss = 0.23983657, step = 201 (9.675 sec)\n",
            "INFO:tensorflow:global_step/sec: 10.3205\n",
            "INFO:tensorflow:loss = 0.12327475, step = 301 (9.694 sec)\n",
            "INFO:tensorflow:global_step/sec: 10.2373\n",
            "INFO:tensorflow:loss = 0.01942378, step = 401 (9.763 sec)\n",
            "INFO:tensorflow:global_step/sec: 10.2746\n",
            "INFO:tensorflow:loss = 0.01908732, step = 501 (9.738 sec)\n",
            "INFO:tensorflow:global_step/sec: 10.2222\n",
            "INFO:tensorflow:loss = 0.027523344, step = 601 (9.778 sec)\n",
            "INFO:tensorflow:global_step/sec: 10.2712\n",
            "INFO:tensorflow:loss = 0.015541552, step = 701 (9.736 sec)\n",
            "INFO:tensorflow:global_step/sec: 10.2166\n",
            "INFO:tensorflow:loss = 0.017257385, step = 801 (9.788 sec)\n",
            "INFO:tensorflow:global_step/sec: 10.2462\n",
            "INFO:tensorflow:loss = 0.010560801, step = 901 (9.765 sec)\n",
            "INFO:tensorflow:global_step/sec: 10.2176\n",
            "INFO:tensorflow:loss = 0.0047042067, step = 1001 (9.782 sec)\n",
            "INFO:tensorflow:global_step/sec: 10.1968\n",
            "INFO:tensorflow:loss = 0.030896705, step = 1101 (9.811 sec)\n",
            "INFO:tensorflow:global_step/sec: 10.0856\n",
            "INFO:tensorflow:loss = 0.01368496, step = 1201 (9.915 sec)\n",
            "INFO:tensorflow:global_step/sec: 10.1978\n",
            "INFO:tensorflow:loss = 0.0013168594, step = 1301 (9.802 sec)\n",
            "INFO:tensorflow:global_step/sec: 10.2209\n",
            "INFO:tensorflow:loss = 0.009964661, step = 1401 (9.784 sec)\n",
            "INFO:tensorflow:global_step/sec: 10.1854\n",
            "INFO:tensorflow:loss = 0.027022474, step = 1501 (9.823 sec)\n",
            "INFO:tensorflow:global_step/sec: 10.2225\n",
            "INFO:tensorflow:loss = 0.0060524372, step = 1601 (9.781 sec)\n",
            "INFO:tensorflow:global_step/sec: 10.1723\n",
            "INFO:tensorflow:loss = 0.0009340752, step = 1701 (9.831 sec)\n",
            "INFO:tensorflow:global_step/sec: 10.2897\n",
            "INFO:tensorflow:loss = 0.04723199, step = 1801 (9.715 sec)\n",
            "INFO:tensorflow:global_step/sec: 10.0295\n",
            "INFO:tensorflow:loss = 0.002761476, step = 1901 (9.970 sec)\n",
            "INFO:tensorflow:global_step/sec: 10.2177\n",
            "INFO:tensorflow:loss = 0.0007835866, step = 2001 (9.787 sec)\n",
            "INFO:tensorflow:global_step/sec: 10.1716\n",
            "INFO:tensorflow:loss = 0.00026349915, step = 2101 (9.835 sec)\n",
            "INFO:tensorflow:global_step/sec: 10.094\n",
            "INFO:tensorflow:loss = 0.0017320681, step = 2201 (9.905 sec)\n",
            "INFO:tensorflow:global_step/sec: 10.0961\n",
            "INFO:tensorflow:loss = 0.06570743, step = 2301 (9.904 sec)\n",
            "INFO:tensorflow:global_step/sec: 10.1784\n",
            "INFO:tensorflow:loss = 0.0022351032, step = 2401 (9.824 sec)\n",
            "INFO:tensorflow:Saving checkpoints for 2500 into /content/gdrive/My Drive/IRDM_CHFX2/model_Subtask6/model.ckpt.\n",
            "INFO:tensorflow:Loss for final step: 0.05360108.\n"
          ],
          "name": "stdout"
        },
        {
          "output_type": "execute_result",
          "data": {
            "text/plain": [
              "<tensorflow_estimator.python.estimator.estimator.Estimator at 0x7f038cd36c50>"
            ]
          },
          "metadata": {
            "tags": []
          },
          "execution_count": 10
        }
      ]
    },
    {
      "metadata": {
        "id": "ScBrKXGLgP8h",
        "colab_type": "code",
        "colab": {}
      },
      "cell_type": "code",
      "source": [
        "'''\n",
        "Define the testing process.\n",
        "'''\n",
        "def eval_input_fn(features, labels, batch_size):\n",
        "    features=dict(features)\n",
        "    inputs=(features,labels)\n",
        "    dataset = tf.data.Dataset.from_tensor_slices(inputs)\n",
        "    dataset = dataset.batch(batch_size)\n",
        "    return dataset.make_one_shot_iterator().get_next()"
      ],
      "execution_count": 0,
      "outputs": []
    },
    {
      "metadata": {
        "id": "mKYu0C0ZgRY6",
        "colab_type": "code",
        "outputId": "36d254ce-d862-458f-a7c8-fe4cf8db7618",
        "colab": {
          "base_uri": "https://localhost:8080/",
          "height": 326
        }
      },
      "cell_type": "code",
      "source": [
        "'''\n",
        "Evaluate our model.\n",
        "'''\n",
        "eval_result = classifier.evaluate(\n",
        "    input_fn=lambda:eval_input_fn(test_x, test_y,batch_size))\n",
        "\n",
        "print(eval_result)"
      ],
      "execution_count": 0,
      "outputs": [
        {
          "output_type": "stream",
          "text": [
            "INFO:tensorflow:Calling model_fn.\n",
            "WARNING:tensorflow:From /usr/local/lib/python3.6/dist-packages/tensorflow/python/ops/metrics_impl.py:788: div (from tensorflow.python.ops.math_ops) is deprecated and will be removed in a future version.\n",
            "Instructions for updating:\n",
            "Deprecated in favor of operator or tf.math.divide.\n",
            "INFO:tensorflow:Done calling model_fn.\n",
            "INFO:tensorflow:Starting evaluation at 2019-04-26T02:10:53Z\n",
            "INFO:tensorflow:Graph was finalized.\n",
            "WARNING:tensorflow:From /usr/local/lib/python3.6/dist-packages/tensorflow/python/training/saver.py:1266: checkpoint_exists (from tensorflow.python.training.checkpoint_management) is deprecated and will be removed in a future version.\n",
            "Instructions for updating:\n",
            "Use standard file APIs to check for files with this prefix.\n",
            "INFO:tensorflow:Restoring parameters from /content/gdrive/My Drive/IRDM_CHFX2/model_Subtask6/model.ckpt-2500\n",
            "INFO:tensorflow:Running local_init_op.\n",
            "INFO:tensorflow:Done running local_init_op.\n",
            "INFO:tensorflow:Finished evaluation at 2019-04-26-02:10:57\n",
            "INFO:tensorflow:Saving dict for global step 2500: AUC = 0.65274626, accuracy = 0.6479592, global_step = 2500, loss = 2.1437335, precision = 0.6, recall = 0.82867134\n",
            "INFO:tensorflow:Saving 'checkpoint_path' summary for global step 2500: /content/gdrive/My Drive/IRDM_CHFX2/model_Subtask6/model.ckpt-2500\n",
            "{'AUC': 0.65274626, 'accuracy': 0.6479592, 'loss': 2.1437335, 'precision': 0.6, 'recall': 0.82867134, 'global_step': 2500}\n"
          ],
          "name": "stdout"
        }
      ]
    },
    {
      "metadata": {
        "id": "NI41OhYmh88p",
        "colab_type": "code",
        "colab": {}
      },
      "cell_type": "code",
      "source": [
        ""
      ],
      "execution_count": 0,
      "outputs": []
    }
  ]
}