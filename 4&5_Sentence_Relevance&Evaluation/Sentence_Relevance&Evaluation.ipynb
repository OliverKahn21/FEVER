{
  "nbformat": 4,
  "nbformat_minor": 0,
  "metadata": {
    "colab": {
      "name": "Subtask4_5.ipynb",
      "version": "0.3.2",
      "provenance": [],
      "collapsed_sections": []
    },
    "kernelspec": {
      "name": "python3",
      "display_name": "Python 3"
    }
  },
  "cells": [
    {
      "metadata": {
        "id": "oI0FqFdGhg3n",
        "colab_type": "text"
      },
      "cell_type": "markdown",
      "source": [
        "Subtask4"
      ]
    },
    {
      "metadata": {
        "id": "tRFetmJshitg",
        "colab_type": "code",
        "outputId": "497a9145-1b65-45e1-9a00-bb6157ad5ec7",
        "colab": {
          "base_uri": "https://localhost:8080/",
          "height": 71
        }
      },
      "cell_type": "code",
      "source": [
        "import numpy as np\n",
        "import os\n",
        "import time\n",
        "import gensim.models.keyedvectors as word2vec\n",
        "import re\n",
        "from fever_io import load_dataset_json\n",
        "from math import *\n",
        "import random"
      ],
      "execution_count": 0,
      "outputs": [
        {
          "output_type": "stream",
          "text": [
            "/usr/local/lib/python3.6/dist-packages/smart_open/ssh.py:34: UserWarning: paramiko missing, opening SSH/SCP/SFTP paths will be disabled.  `pip install paramiko` to suppress\n",
            "  warnings.warn('paramiko missing, opening SSH/SCP/SFTP paths will be disabled.  `pip install paramiko` to suppress')\n"
          ],
          "name": "stderr"
        }
      ]
    },
    {
      "metadata": {
        "id": "I9OlgB2ehkeW",
        "colab_type": "code",
        "outputId": "60031f81-6064-45f6-dccd-9c65ea9a6a37",
        "colab": {
          "base_uri": "https://localhost:8080/",
          "height": 34
        }
      },
      "cell_type": "code",
      "source": [
        "from google.colab import drive\n",
        "drive.mount('/content/gdrive')"
      ],
      "execution_count": 0,
      "outputs": [
        {
          "output_type": "stream",
          "text": [
            "Drive already mounted at /content/gdrive; to attempt to forcibly remount, call drive.mount(\"/content/gdrive\", force_remount=True).\n"
          ],
          "name": "stdout"
        }
      ]
    },
    {
      "metadata": {
        "id": "fWe_0tq64vIW",
        "colab_type": "code",
        "colab": {}
      },
      "cell_type": "code",
      "source": [
        "PATH = '/content/gdrive/My Drive/IRDM_CHFX2/'"
      ],
      "execution_count": 0,
      "outputs": []
    },
    {
      "metadata": {
        "id": "PaUeCL0gtxJl",
        "colab_type": "code",
        "colab": {}
      },
      "cell_type": "code",
      "source": [
        "def sigmoid(inX):\n",
        "    '''\n",
        "    This Sigmoid function is used as a threshold function and mapping variables to between 0 and 1.\n",
        "    '''\n",
        "    if inX < 0:\n",
        "        return 1 - 1/(1 + exp(inX))\n",
        "    else:\n",
        "        return 1/(1 + exp(-inX))"
      ],
      "execution_count": 0,
      "outputs": []
    },
    {
      "metadata": {
        "id": "K4i4_2p2t1yL",
        "colab_type": "code",
        "colab": {}
      },
      "cell_type": "code",
      "source": [
        "# def loadtrainData():\n",
        "     '''\n",
        "     This funtion is used to read the training data without any sampling.\n",
        "     I tried the performance of this method and because of the negative result I do not use it in the final model.\n",
        "     '''\n",
        "#    train_x = []\n",
        "#    train_y = []\n",
        "#    fileIn = open(PATH + 'traindata_Subtask4.txt')\n",
        "#    for line in fileIn.readlines():\n",
        "#        lineArr = line.strip().split()\n",
        "#        train_x.append([float(lineArr[i]) for i in range(len(lineArr) - 1)])\n",
        "#        train_y.append(int(lineArr[-1]))\n",
        "#    return np.mat(train_x), np.mat(train_y).transpose()"
      ],
      "execution_count": 0,
      "outputs": []
    },
    {
      "metadata": {
        "id": "01HcVMfXkWK3",
        "colab_type": "code",
        "colab": {}
      },
      "cell_type": "code",
      "source": [
        "# def loadtrainData_oversampling():\n",
        "     '''\n",
        "     This funtion is used to read the training data with over sampling.\n",
        "     I tried the performance of this method and because of the negative result I do not use it in the final model.\n",
        "     '''\n",
        "#    pre_x = []\n",
        "#    pre_y = []\n",
        "#    fileIn = open(PATH + 'traindata_Subtask4.txt')\n",
        "#    for line in fileIn.readlines():\n",
        "#        lineArr = line.strip().split()\n",
        "#        pre_x.append([float(lineArr[i]) for i in range(len(lineArr) - 1)])\n",
        "#        pre_y.append(int(lineArr[-1]))\n",
        "#    ros = RandomOverSampler(random_state=0)\n",
        "#    sampl_x, sampl_y = ros.fit_sample(pre_x, pre_y)\n",
        "#    return np.mat(sampl_x),np.mat(sampl_y).transpose()"
      ],
      "execution_count": 0,
      "outputs": []
    },
    {
      "metadata": {
        "id": "LoxBy47LpHEO",
        "colab_type": "code",
        "colab": {}
      },
      "cell_type": "code",
      "source": [
        "def loadtrainData_undersampling():\n",
        "    '''\n",
        "    This funtion is used to read the training data with under sampling.\n",
        "    In my training set, it including 153 positive samples and 3201 negative samples. By using this function, we can get all the positive samples and the same number of negative samples.\n",
        "    '''\n",
        "    train = []\n",
        "    fileIn = open(PATH + 'traindata_Subtask4.txt')\n",
        "    for line in fileIn.readlines():\n",
        "        lineArr = line.strip().split()\n",
        "        train.append([float(lineArr[i]) for i in range(len(lineArr))])\n",
        "   \n",
        "    pos = []\n",
        "    neg = []\n",
        "    for i in train:\n",
        "        if i[-1] == 1.0:\n",
        "            pos.append(i)\n",
        "        else:\n",
        "            neg.append(i)\n",
        "    slice1 = random.sample(neg, len(pos))\n",
        "    data = pos + slice1\n",
        "    train_x=[]\n",
        "    train_y=[]\n",
        "    y = []\n",
        "    for line in data:\n",
        "        train_x.append([float(line[i]) for i in range(len(line)-1)])\n",
        "        y.append([int(line[-1])])\n",
        "    for i in range(len(y)):\n",
        "        train_y.append(y[i][0])\n",
        "    return np.mat(train_x), np.mat(train_y).transpose()"
      ],
      "execution_count": 0,
      "outputs": []
    },
    {
      "metadata": {
        "id": "zJF95x3jt5BS",
        "colab_type": "code",
        "colab": {}
      },
      "cell_type": "code",
      "source": [
        "def loaddevData():\n",
        "    '''\n",
        "    This funtion is used to read the top 10 claims in the dev set.\n",
        "    ''' \n",
        "    dev_x = []\n",
        "    dev_y = []\n",
        "    fileIn = open(PATH + 'devdata_Subtask4.txt')\n",
        "    for line in fileIn.readlines():\n",
        "        lineArr = line.strip().split()\n",
        "        dev_x.append([float(lineArr[i]) for i in range(len(lineArr) - 1)])\n",
        "        dev_y.append(int(lineArr[-1]))\n",
        "    return np.mat(dev_x), np.mat(dev_y).transpose()"
      ],
      "execution_count": 0,
      "outputs": []
    },
    {
      "metadata": {
        "id": "L-AG6qtEt9TO",
        "colab_type": "code",
        "colab": {}
      },
      "cell_type": "code",
      "source": [
        "def trainLogRegres(train_x, train_y, opts):\n",
        "    '''\n",
        "    This function is the logistic regresion model with stochastic gradient descent.\n",
        "    The input is the train_x, the label 'train_y' and the smooth method. I tried two different method in the model.\n",
        "    The output is the weights that using for prediciton and I also print the train loss and training time to analyse the effect of learning rate.\n",
        "    '''\n",
        "    startTime = time.time() ## calculate training time\n",
        "\n",
        "    numSamples, numFeatures = np.shape(train_x)\n",
        "    alpha = opts['alpha']\n",
        "    maxIter = opts['maxIter']\n",
        "    weights = np.ones((numFeatures, 1))\n",
        "\n",
        "\n",
        "    for k in range(maxIter):\n",
        "        if opts['optimizeType'] == 'stocGradDescent':  ## stochastic gradient descent\n",
        "            for i in range(numSamples):\n",
        "                output = sigmoid(train_x[i, :] * weights)\n",
        "                loss = train_y[i, 0] - output\n",
        "                weights = weights + alpha * train_x[i, :].transpose() * loss\n",
        "        elif opts['optimizeType'] == 'smoothStocGradDescent':  ## smooth stochastic gradient descent. randomly select samples to optimize for reducing cycle fluctuations.\n",
        "            dataIndex = list(range(numSamples))\n",
        "            for i in range(numSamples):\n",
        "                alpha = 4.0 / (1.0 + k + i) + 0.01\n",
        "                randIndex = int(np.random.uniform(0, len(dataIndex)))\n",
        "                output = sigmoid(train_x[randIndex, :] * weights)\n",
        "                loss = train_y[randIndex, 0] - output\n",
        "                weights = weights + alpha * train_x[randIndex, :].transpose() * loss\n",
        "                del (dataIndex[randIndex])\n",
        "    print(loss)\n",
        "    print('Congratulations, training complete! Took %fs!' % (time.time() - startTime))\n",
        "    return weights"
      ],
      "execution_count": 0,
      "outputs": []
    },
    {
      "metadata": {
        "id": "VR33p_6CuDP_",
        "colab_type": "code",
        "colab": {}
      },
      "cell_type": "code",
      "source": [
        "def testLogRegres(weights, dev_x, dev_y):\n",
        "    '''\n",
        "    This function is used to predict the data by the logistice model.\n",
        "    The input is the weights of logistics model, the dev_x and the label 'dev_y'.\n",
        "    The output is the prediction result.\n",
        "    '''\n",
        "    predict_y = []\n",
        "    numSamples, numFeatures = np.shape(dev_x)\n",
        "    for i in range(numSamples):\n",
        "        if sigmoid(dev_x[i, :] * weights) > 0.5:\n",
        "            label = 1\n",
        "        else:\n",
        "            label = 0\n",
        "        predict_y.append(label)\n",
        "    print('Congratulations, testing complete!')\n",
        "    return predict_y"
      ],
      "execution_count": 0,
      "outputs": []
    },
    {
      "metadata": {
        "id": "0jnJy4SUhk1S",
        "colab_type": "code",
        "colab": {}
      },
      "cell_type": "code",
      "source": [
        "def Subtask4_pre_train_1(path):\n",
        "    '''\n",
        "    This function is the same as the function for data pre-processing for query-likelihood unigram language model in Subtask3.\n",
        "    '''\n",
        "    n_dict = {}\n",
        "    files = os.listdir(path)\n",
        "    for i in files:\n",
        "        with open(os.path.join(path, i)) as fp:\n",
        "            lines = fp.readlines()\n",
        "            for line in lines:\n",
        "                text = eval(line)['text'] ## extract data from the field of 'text'.\n",
        "                words = text.split(' ')\n",
        "                for w in words:\n",
        "                    w = w.replace(\"-LRB-\",\"\").replace(\"-RRB-\",\"\").replace(\"-LSB-\",\"\").replace(\"-RSB-\",\"\").replace(\"--\",\"\")\n",
        "                    w = re.sub(\"[,.。:_=+*&^%$#@!?()<>/`';|]\", \"\", w) ## replace the noisy with space. \n",
        "                    if not w in n_dict:\n",
        "                        n_dict[w] = 1\n",
        "                    else:\n",
        "                        n_dict[w] += 1 ## count the frequencies of every term.\n",
        "    np.save(PATH + \"pre_train_1_Subtask4.npy\",n_dict)\n",
        "    print ('save complete')"
      ],
      "execution_count": 0,
      "outputs": []
    },
    {
      "metadata": {
        "id": "rBBIDAGNhvFk",
        "colab_type": "code",
        "outputId": "83c6d5ce-8881-4fe3-fe59-5fd7ccd79a8c",
        "colab": {
          "base_uri": "https://localhost:8080/",
          "height": 34
        }
      },
      "cell_type": "code",
      "source": [
        "Subtask4_pre_train_1(PATH + 'data/wiki-pages/wiki-pages/')"
      ],
      "execution_count": 0,
      "outputs": [
        {
          "output_type": "stream",
          "text": [
            "save complete\n"
          ],
          "name": "stdout"
        }
      ]
    },
    {
      "metadata": {
        "id": "z6P6Syd5hxGA",
        "colab_type": "code",
        "colab": {}
      },
      "cell_type": "code",
      "source": [
        "def Subtask4_pre_train_2_Laplace(number):\n",
        "    '''\n",
        "    This function is the same as the function for Laplace Smoothing query-likelihood unigram language model in Subtask3.\n",
        "    '''\n",
        "    alpha = 0.5\n",
        "\n",
        "    train_data = load_dataset_json(PATH + 'data/train.jsonl', instance_num = number)\n",
        "    data = np.load(PATH + 'pre_train_1_Subtask4.npy', allow_pickle=True).item()\n",
        "    \n",
        "    id_list = []\n",
        "    for d in train_data:\n",
        "        if d['label'] != 'NOT ENOUGH INFO':\n",
        "            claim_id = d['id']\n",
        "            id_list.append(claim_id)\n",
        "\n",
        "    documents ={}\n",
        "    for x in id_list:\n",
        "        claim = None\n",
        "        for d in train_data:\n",
        "            if d['id'] == x:\n",
        "                claim = d['claim'][:-1]\n",
        "                claim = re.sub(\"[,.。:_=+*&^%$#@!?()<>/`';|]\", \"\", claim)\n",
        "                claim = claim.split(' ')\n",
        "                #break\n",
        "\n",
        "                C = sum(data.values())\n",
        "                f = []\n",
        "\n",
        "                files = os.listdir(PATH + 'data/wiki-pages/wiki-pages/')\n",
        "                for i in files:\n",
        "                    with open(os.path.join(PATH + 'data/wiki-pages/wiki-pages/', i)) as fp:\n",
        "                        lines = fp.readlines()\n",
        "                        for line in lines:\n",
        "                            text = eval(line)['text'].split(' ')\n",
        "                            tmp = 0\n",
        "                            for w in claim:\n",
        "                                if w in text:\n",
        "                                    p = (text.count(w) + 1) / (len(text) + 1)\n",
        "                                else:\n",
        "                                    if w in data:\n",
        "                                        p = alpha * (data[w] + 1) / (C + len(data))\n",
        "                                    else:\n",
        "                                        p = 0.01\n",
        "                                tmp += log(p)\n",
        "                            f.append((eval(line)['id'], tmp))\n",
        "                f.sort(key=lambda x:x[1], reverse=True)\n",
        "                evidence = []\n",
        "                for i in range(5):\n",
        "                    name = f[i][0]\n",
        "                    evidence.append(name)\n",
        "                documents[d['claim']] = evidence\n",
        "    np.save(PATH + \"pre_train_2_Subtask4.npy\",documents)\n",
        "    print ('save complete')"
      ],
      "execution_count": 0,
      "outputs": []
    },
    {
      "metadata": {
        "id": "Fxvb4TLfsf6r",
        "colab_type": "code",
        "colab": {}
      },
      "cell_type": "code",
      "source": [
        "Subtask4_pre_train_2_Laplace(150)"
      ],
      "execution_count": 0,
      "outputs": []
    },
    {
      "metadata": {
        "id": "bXV2VS3Oh1II",
        "colab_type": "code",
        "colab": {}
      },
      "cell_type": "code",
      "source": [
        "def Subtask4_pre_train_3():\n",
        "    '''\n",
        "    The output is a dictionary which the key is the document 'id' that appear in any of the claim's five similar documents and the value is 'lines' in wiki-pages.\n",
        "    '''\n",
        "    train_data = np.load(PATH + 'pre_train_2_Subtask4.npy', allow_pickle=True).item()\n",
        "\n",
        "    evidence=[]\n",
        "    for d in train_data.items():\n",
        "        for i in range(5):\n",
        "            evidence.append(d[1][i])\n",
        "\n",
        "    files = os.listdir(PATH + 'data/wiki-pages/wiki-pages/')\n",
        "    documents = {}\n",
        "    for i in files:\n",
        "        with open(os.path.join(PATH + 'data/wiki-pages/wiki-pages/', i)) as fp:\n",
        "            lines = fp.readlines()\n",
        "            for line in lines:\n",
        "                line = eval(line)\n",
        "                if line['id'] in evidence:\n",
        "                    text = line['lines']\n",
        "                    documents[line['id']] = text\n",
        "    with open(PATH + 'pre_train_3_Subtask4.txt', 'w', encoding='utf-8') as f:\n",
        "        f.write(str(documents))"
      ],
      "execution_count": 0,
      "outputs": []
    },
    {
      "metadata": {
        "id": "dgWL8bAxh3wI",
        "colab_type": "code",
        "colab": {}
      },
      "cell_type": "code",
      "source": [
        "Subtask4_pre_train_3()"
      ],
      "execution_count": 0,
      "outputs": []
    },
    {
      "metadata": {
        "id": "gURzq35kh5Gt",
        "colab_type": "code",
        "colab": {}
      },
      "cell_type": "code",
      "source": [
        "def Subtask4_pre_train_4():\n",
        "    '''\n",
        "    The output is a list which the structure is [claim, evidence document, sentence_number].\n",
        "    '''\n",
        "    evidence_data = load_dataset_json(PATH + 'data/train.jsonl', instance_num = 200)\n",
        "    evi = []\n",
        "    for i in evidence_data:\n",
        "        for j in i['evidence']:\n",
        "            evi.append([i['claim'], j[0][2], j[0][3]])\n",
        "    evi_new=[]\n",
        "    for e in evi:\n",
        "        if e not in evi_new:\n",
        "            evi_new.append(e)\n",
        "    \n",
        "    with open(PATH + 'pre_train_4_Subtask4.txt', 'w', encoding='utf-8') as f:\n",
        "        f.write(str(evi_new))"
      ],
      "execution_count": 0,
      "outputs": []
    },
    {
      "metadata": {
        "id": "cEVizfpDiBZI",
        "colab_type": "code",
        "colab": {}
      },
      "cell_type": "code",
      "source": [
        "Subtask4_pre_train_4()"
      ],
      "execution_count": 0,
      "outputs": []
    },
    {
      "metadata": {
        "id": "MmF-nQ_qiCgU",
        "colab_type": "code",
        "colab": {}
      },
      "cell_type": "code",
      "source": [
        "def Subtask4_pre_train_5():\n",
        "    '''\n",
        "    The out put is the embedding result of claim, sentence and the label which is totally 601 dimmensions\n",
        "    I use word2vec for embedding and the structure of output for each claim and the sentence is [embedding claim_300 dimmensions, embedding each sentence in 5 documents_300 dimmensions, label]\n",
        "    If the sentence is the evidence sentence show in the train set, the label is 1. Else the label is 0.\n",
        "    '''\n",
        "    with open(PATH + 'pre_train_4_Subtask4.txt', encoding='utf-8') as fi:\n",
        "        evi = eval(fi.read())\n",
        "\n",
        "    train_data = np.load(PATH + 'pre_train_2_Subtask4.npy', allow_pickle=True).item()\n",
        "    model = word2vec.KeyedVectors.load_word2vec_format(PATH + \"data/GoogleNews-vectors-negative300.bin\", binary=True)\n",
        "\n",
        "    with open(PATH + 'pre_train_3_Subtask4.txt', encoding='utf-8') as f:\n",
        "        document = eval(f.read())\n",
        "\n",
        "    with open(PATH + 'traindata_Subtask4.txt', 'w') as fp:\n",
        "        for data in train_data.items():\n",
        "                claim = data[0]\n",
        "                claim = re.sub(\"[-,.。:_=+*&^%$#@!?()<>/`';|]\", \"\", claim)\n",
        "                claim = claim.split(' ')\n",
        "                claim = list(filter(lambda x: x in model.vocab, claim))\n",
        "                Vi = []\n",
        "                for i in range(len(claim)):\n",
        "                    Vi.append(model[claim[i]])\n",
        "\n",
        "                V = np.zeros(len(Vi[0]))\n",
        "                for i in range(len(claim)):\n",
        "                    for j in range(len(Vi[0])):\n",
        "                        V[j] = V[j] + Vi[i][j]\n",
        "\n",
        "                rms = 0\n",
        "                for i in range(len(Vi[0])):\n",
        "                    rms += V[i] * V[i]\n",
        "                rms = np.sqrt(rms / len(Vi[0]))\n",
        "\n",
        "                for i in range(len(Vi[0])):\n",
        "                    V[i] = V[i] / rms\n",
        "                V = V.astype(str).tolist()\n",
        "                \n",
        "                for doc in data[1]:\n",
        "                    lines = document[doc].split('\\n')\n",
        "                    for k in range(len(lines)):\n",
        "                        label = [data[0], doc, k]\n",
        "                        line = document[doc].split('\\n')[k]\n",
        "                        if line != str(k) + '\\t':\n",
        "                            line = line.replace(str(k) + '\\t', '')\n",
        "                            line = line.split('\\t')[0]\n",
        "                            line = re.sub(\"[-,.。:_=+*&^%$#@!?()<>/`';|]\", \"\", line)\n",
        "                            line = line.split(' ')\n",
        "                            line = list(filter(lambda x: x in model.vocab, line))\n",
        "                            if len(line) != 0:\n",
        "                                Vi = []\n",
        "                                for i in range(len(line)):\n",
        "                                    Vi.append(model[line[i]])\n",
        "\n",
        "                                V1 = np.zeros(len(Vi[0]))\n",
        "                                for i in range(len(line)):\n",
        "                                    for j in range(len(Vi[0])):\n",
        "                                        V1[j] = V1[j] + Vi[i][j]\n",
        "\n",
        "                                rms = 0\n",
        "                                for i in range(len(Vi[0])):\n",
        "                                    rms += V1[i] * V1[i]\n",
        "                                rms = np.sqrt(rms / len(Vi[0]))\n",
        "\n",
        "                                for i in range(len(Vi[0])):\n",
        "                                    V1[i] = V1[i] / rms\n",
        "                                V1 = V1.astype(str).tolist()\n",
        "                                \n",
        "                                if label in evi:\n",
        "                                    fp.write(' '.join(V) + ' ' + ' '.join(V1) + ' 1' + '\\n')\n",
        "                                else:\n",
        "                                    fp.write(' '.join(V) + ' ' + ' '.join(V1) + ' 0' + '\\n')"
      ],
      "execution_count": 0,
      "outputs": []
    },
    {
      "metadata": {
        "id": "xNswkB-Fukno",
        "colab_type": "code",
        "colab": {}
      },
      "cell_type": "code",
      "source": [
        "Subtask4_pre_train_5()"
      ],
      "execution_count": 0,
      "outputs": []
    },
    {
      "metadata": {
        "id": "LOQDpBbjr4k0",
        "colab_type": "code",
        "colab": {}
      },
      "cell_type": "code",
      "source": [
        "### For the following 4 funtions, they are the same as the above 4 functions. The only different is that it is for the 10 claims in the development set."
      ],
      "execution_count": 0,
      "outputs": []
    },
    {
      "metadata": {
        "id": "hIhR1VjVuKYz",
        "colab_type": "code",
        "colab": {}
      },
      "cell_type": "code",
      "source": [
        "def Subtask4_pre_dev_2_Laplace(index):\n",
        "    alpha = 0.5\n",
        "\n",
        "    dev_data = load_dataset_json(PATH + 'data/dev.jsonl', instance_num=20)\n",
        "    data = np.load(PATH + 'pre_train_1_Subtask4.npy', allow_pickle=True).item()\n",
        "    \n",
        "    documents ={}\n",
        "    index_list = index\n",
        "    for x in index_list:\n",
        "        claim = None\n",
        "        for d in dev_data:\n",
        "            if d['id'] == x:\n",
        "                claim = d['claim'][:-1]\n",
        "                claim = re.sub(\"[,.。:_=+*&^%$#@!?()<>/`';|]\", \"\", claim)\n",
        "                claim = claim.split(' ')\n",
        "                #break\n",
        "\n",
        "                C = sum(data.values())\n",
        "                f = []\n",
        "\n",
        "                files = os.listdir(PATH + 'data/wiki-pages/wiki-pages/')\n",
        "                for i in files:\n",
        "                    with open(os.path.join(PATH + 'data/wiki-pages/wiki-pages/', i)) as fp:\n",
        "                        lines = fp.readlines()\n",
        "                        for line in lines:\n",
        "                            text = eval(line)['text'].split(' ')\n",
        "                            tmp = 0\n",
        "                            for w in claim:\n",
        "                                if w in text:\n",
        "                                    p = (text.count(w) + 1) / (len(text) + 1)\n",
        "                                else:\n",
        "                                    if w in data:\n",
        "                                        p = alpha * (data[w] + 1) / (C + len(data))\n",
        "                                    else:\n",
        "                                        p = 0.01\n",
        "                                tmp += log(p)\n",
        "                            f.append((eval(line)['id'], tmp))\n",
        "                f.sort(key=lambda x:x[1], reverse=True)\n",
        "                evidence = []\n",
        "                for i in range(5):\n",
        "                    name = f[i][0]\n",
        "                    evidence.append(name)\n",
        "                documents[d['claim']] = evidence\n",
        "    np.save(PATH + \"pre_dev_2_Subtask4.npy\",documents)\n",
        "    print ('save complete')"
      ],
      "execution_count": 0,
      "outputs": []
    },
    {
      "metadata": {
        "id": "q76geQFliFgI",
        "colab_type": "code",
        "colab": {}
      },
      "cell_type": "code",
      "source": [
        "index = [\n",
        "137334,\n",
        "111897,\n",
        "89891,\n",
        "181634,\n",
        "219028,\n",
        "108281,\n",
        "204361,\n",
        "54168,\n",
        "105095,\n",
        "18708\n",
        "]\n",
        "\n",
        "Subtask4_pre_dev_2_Laplace(index)"
      ],
      "execution_count": 0,
      "outputs": []
    },
    {
      "metadata": {
        "id": "CD9qaytjutPf",
        "colab_type": "code",
        "colab": {}
      },
      "cell_type": "code",
      "source": [
        "def Subtask4_pre_dev_3():\n",
        "    dev_data = np.load(PATH + 'pre_dev_2_Subtask4.npy', allow_pickle=True).item()\n",
        "\n",
        "    evidence=[]\n",
        "    for d in dev_data.items():\n",
        "        for i in range(5):\n",
        "            evidence.append(d[1][i])\n",
        "\n",
        "    files = os.listdir(PATH + 'data/wiki-pages/wiki-pages/')\n",
        "    documents = {}\n",
        "    for i in files:\n",
        "        with open(os.path.join(PATH + 'data/wiki-pages/wiki-pages/', i)) as fp:\n",
        "            lines = fp.readlines()\n",
        "            for line in lines:\n",
        "                line = eval(line)\n",
        "                if line['id'] in evidence:\n",
        "                    text = line['lines']\n",
        "                    documents[line['id']] = text\n",
        "    with open(PATH + 'pre_dev_3_Subtask4.txt', 'w', encoding='utf-8') as f:\n",
        "        f.write(str(documents))"
      ],
      "execution_count": 0,
      "outputs": []
    },
    {
      "metadata": {
        "id": "o79aV4Qyu88G",
        "colab_type": "code",
        "colab": {}
      },
      "cell_type": "code",
      "source": [
        "Subtask4_pre_dev_3()"
      ],
      "execution_count": 0,
      "outputs": []
    },
    {
      "metadata": {
        "id": "7_BLukMXvIsT",
        "colab_type": "code",
        "colab": {}
      },
      "cell_type": "code",
      "source": [
        "def Subtask4_pre_dev_4():\n",
        "    evidence_data = load_dataset_json(PATH + 'data/dev.jsonl', instance_num = 20)\n",
        "    evi = []\n",
        "    for i in evidence_data:\n",
        "        for j in i['evidence']:\n",
        "            evi.append([i['claim'], j[0][2], j[0][3]])\n",
        "    evi_new=[]\n",
        "    for e in evi:\n",
        "        if e not in evi_new:\n",
        "            evi_new.append(e)\n",
        "    \n",
        "    with open(PATH + 'pre_dev_4_Subtask4.txt', 'w', encoding='utf-8') as f:\n",
        "        f.write(str(evi_new))"
      ],
      "execution_count": 0,
      "outputs": []
    },
    {
      "metadata": {
        "id": "eEt5K8Pxvc6a",
        "colab_type": "code",
        "colab": {}
      },
      "cell_type": "code",
      "source": [
        "Subtask4_pre_dev_4()"
      ],
      "execution_count": 0,
      "outputs": []
    },
    {
      "metadata": {
        "id": "n9rnmbiYvpPz",
        "colab_type": "code",
        "colab": {}
      },
      "cell_type": "code",
      "source": [
        "def Subtask4_pre_dev_5():\n",
        "    with open(PATH + 'pre_dev_4_Subtask4.txt', encoding='utf-8') as fi:\n",
        "        evi = eval(fi.read())\n",
        "\n",
        "    train_data = np.load(PATH + 'pre_dev_2_Subtask4.npy', allow_pickle=True).item()\n",
        "    model = word2vec.KeyedVectors.load_word2vec_format(PATH + \"data/GoogleNews-vectors-negative300.bin\", binary=True)\n",
        "\n",
        "    with open(PATH + 'pre_dev_3_Subtask4.txt', encoding='utf-8') as f:\n",
        "        document = eval(f.read())\n",
        "\n",
        "    with open(PATH + 'devdata_Subtask4.txt', 'w') as fp:\n",
        "        for data in train_data.items():\n",
        "                claim = data[0]\n",
        "                claim = re.sub(\"[-,.。:_=+*&^%$#@!?()<>/`';|]\", \"\", claim)\n",
        "                claim = claim.split(' ')\n",
        "                claim = list(filter(lambda x: x in model.vocab, claim))\n",
        "                Vi = []\n",
        "                for i in range(len(claim)):\n",
        "                    Vi.append(model[claim[i]])\n",
        "\n",
        "                V = np.zeros(len(Vi[0]))\n",
        "                for i in range(len(claim)):\n",
        "                    for j in range(len(Vi[0])):\n",
        "                        V[j] = V[j] + Vi[i][j]\n",
        "\n",
        "                rms = 0\n",
        "                for i in range(len(Vi[0])):\n",
        "                    rms += V[i] * V[i]\n",
        "                rms = np.sqrt(rms / len(Vi[0]))\n",
        "\n",
        "                for i in range(len(Vi[0])):\n",
        "                    V[i] = V[i] / rms\n",
        "                V = V.astype(str).tolist()\n",
        "                \n",
        "                for doc in data[1]:\n",
        "                    lines = document[doc].split('\\n')\n",
        "                    for k in range(len(lines)):\n",
        "                        label = [data[0], doc, k]\n",
        "                        line = document[doc].split('\\n')[k]\n",
        "                        if line != str(k) + '\\t':\n",
        "                            line = line.replace(str(k) + '\\t', '')\n",
        "                            line = line.split('\\t')[0]\n",
        "                            line = re.sub(\"[-,.。:_=+*&^%$#@!?()<>/`';|]\", \"\", line)\n",
        "                            line = line.split(' ')\n",
        "                            line = list(filter(lambda x: x in model.vocab, line))\n",
        "                            if len(line) != 0:\n",
        "                                Vi = []\n",
        "                                for i in range(len(line)):\n",
        "                                    Vi.append(model[line[i]])\n",
        "\n",
        "                                V1 = np.zeros(len(Vi[0]))\n",
        "                                for i in range(len(line)):\n",
        "                                    for j in range(len(Vi[0])):\n",
        "                                        V1[j] = V1[j] + Vi[i][j]\n",
        "\n",
        "                                rms = 0\n",
        "                                for i in range(len(Vi[0])):\n",
        "                                    rms += V1[i] * V1[i]\n",
        "                                rms = np.sqrt(rms / len(Vi[0]))\n",
        "\n",
        "                                for i in range(len(Vi[0])):\n",
        "                                    V1[i] = V1[i] / rms\n",
        "                                V1 = V1.astype(str).tolist()\n",
        "\n",
        "                                if label in evi:\n",
        "                                    fp.write(' '.join(V) + ' ' + ' '.join(V1) + ' 1' + '\\n')\n",
        "                                else:\n",
        "                                    fp.write(' '.join(V) + ' ' + ' '.join(V1) + ' 0' + '\\n')"
      ],
      "execution_count": 0,
      "outputs": []
    },
    {
      "metadata": {
        "id": "T2S7RYrhv1DB",
        "colab_type": "code",
        "colab": {}
      },
      "cell_type": "code",
      "source": [
        "Subtask4_pre_dev_5()"
      ],
      "execution_count": 0,
      "outputs": []
    },
    {
      "metadata": {
        "id": "LZWhQzGzhX9Q",
        "colab_type": "code",
        "colab": {}
      },
      "cell_type": "code",
      "source": [
        "'''\n",
        "The result below use the undersampling method and save as 'train_x.dat' and 'train_y.dat'.\n",
        "You may not get the same result if you sampling again because the sampling result is different every time.\n",
        "As an alternative, you need to use the following code to read the sampling data I saved after got the best result to reproduce the result\n",
        "code:\n",
        "'''\n",
        "print(\"step 1: load data...\")\n",
        "train_x = np.load(PATH + 'train_x.dat', allow_pickle=True)\n",
        "train_y = np.load(PATH + 'train_y.dat', allow_pickle=True)\n",
        "dev_x, dev_y = loaddevData()\n",
        "\n",
        "print(\"step 2: training...\")\n",
        "opts = {'alpha': 0.0001, 'maxIter': 5000, 'optimizeType': 'smoothStocGradDescent'}\n",
        "optimalWeights = trainLogRegres(train_x, train_y, opts)\n",
        "\n",
        "print(\"step 3: testing...\")\n",
        "predict_y = testLogRegres(optimalWeights, dev_x, dev_y)"
      ],
      "execution_count": 0,
      "outputs": []
    },
    {
      "metadata": {
        "id": "-hJfXWD7K70U",
        "colab_type": "code",
        "outputId": "78323df5-1870-4472-b4b8-095e0dfbab3d",
        "colab": {
          "base_uri": "https://localhost:8080/",
          "height": 119
        }
      },
      "cell_type": "code",
      "source": [
        "'''\n",
        "This part is using to load the train data, dev data and training the model and prediction the result.\n",
        "I used it to try different sampling method and the best result is show below and the data sampling for this result is save as 'train_x.dat' and 'train_y.dat'\n",
        "Please use the code above to read the undersampling data to reproduce the result below because the sampling result is different every time and you may not get the same result if you sampling again.\n",
        "'''\n",
        "# ## step 1: load data\n",
        "# print(\"step 1: load data...\")\n",
        "# train_x, train_y = loadtrainData_undersampling()\n",
        "# dev_x, dev_y = loaddevData()\n",
        "# ## step 2: training\n",
        "# print(\"step 2: training...\")\n",
        "# opts = {'alpha': 0.0001, 'maxIter': 5000, 'optimizeType': 'smoothStocGradDescent'}\n",
        "# optimalWeights = trainLogRegres(train_x, train_y, opts)\n",
        "# ## step 3: testing\n",
        "# print(\"step 3: testing...\")\n",
        "# predict_y = testLogRegres(optimalWeights, dev_x, dev_y)"
      ],
      "execution_count": 0,
      "outputs": [
        {
          "output_type": "stream",
          "text": [
            "step 1: load data...\n",
            "step 2: training...\n",
            "2.4976221091321804e-09\n",
            "Congratulations, training complete! Took 97.173146s!\n",
            "step 3: testing...\n",
            "Congratulations, testing complete!\n"
          ],
          "name": "stdout"
        }
      ]
    },
    {
      "metadata": {
        "id": "ns9-Lx96GX0Y",
        "colab_type": "code",
        "colab": {}
      },
      "cell_type": "code",
      "source": [
        "from sklearn.metrics import roc_curve, auc, mean_squared_error, accuracy_score, zero_one_loss\n",
        "import matplotlib.pyplot as plt\n",
        "def check_fit(truth, prob):\n",
        "    '''\n",
        "    This function is using the plot the ROC curve and print the RMSE, accuracy, AUC and test loss.\n",
        "    The input is the prediction result of dev data and the label of dev data\n",
        "    '''\n",
        "    fpr, tpr, _ = roc_curve(truth, prob)     ## drop_intermediate:(default=True) \n",
        "    roc_auc = auc(fpr, tpr)   ## calculate the AUC\n",
        "    plt.figure()\n",
        "    plt.plot(fpr, tpr, color='darkorange', lw=2, label='ROC curve (area = %0.2f)' % roc_auc)\n",
        "    plt.plot([0, 1], [0, 1], color='navy', lw=2, linestyle='--')\n",
        "    plt.xlim([-0.1, 1.05])\n",
        "    plt.ylim([-0.1, 1.05])\n",
        "    plt.xlabel('False Positive Rate')\n",
        "    plt.ylabel('True Positive Rate')\n",
        "    plt.title('Receiver operating characteristic example')\n",
        "    plt.legend(loc=\"lower right\")\n",
        "    plt.show() \n",
        "    print('results are RMSE, accuracy, ROC, loss function')\n",
        "    print(sqrt(mean_squared_error(truth, prob)), accuracy_score(truth, prob), roc_auc,zero_one_loss(truth,prob))"
      ],
      "execution_count": 0,
      "outputs": []
    },
    {
      "metadata": {
        "id": "KOQdzdiOKJA7",
        "colab_type": "code",
        "outputId": "f1671e4a-9310-436c-c916-7f33eb2757b0",
        "colab": {
          "base_uri": "https://localhost:8080/",
          "height": 329
        }
      },
      "cell_type": "code",
      "source": [
        "check_fit(dev_y, predict_y)"
      ],
      "execution_count": 0,
      "outputs": [
        {
          "output_type": "display_data",
          "data": {
            "image/png": "[encoded data removed]",
            "text/plain": [
              "<Figure size 432x288 with 1 Axes>"
            ]
          },
          "metadata": {
            "tags": []
          }
        },
        {
          "output_type": "stream",
          "text": [
            "results are RMSE, accuracy, ROC, loss function\n",
            "0.7033355181304509 0.5053191489361702 0.6443820224719101 0.49468085106382975\n"
          ],
          "name": "stdout"
        }
      ]
    },
    {
      "metadata": {
        "id": "MwYMDPWe9OBe",
        "colab_type": "text"
      },
      "cell_type": "markdown",
      "source": [
        "Subtask5"
      ]
    },
    {
      "metadata": {
        "id": "fhgJM6f96Tgk",
        "colab_type": "code",
        "colab": {}
      },
      "cell_type": "code",
      "source": [
        "def precision_score(y_true, y_pred):\n",
        "    '''\n",
        "    The y_true is the label of dev data and the y_pred is the prediciton of the model\n",
        "    '''\n",
        "    return ((y_true==1)*(y_pred==1)).sum()/(y_pred==1).sum()\n",
        "\n",
        "def recall_score(y_true, y_pred):\n",
        "    '''\n",
        "    The y_true is the label of dev data and the y_pred is the prediciton of the model\n",
        "    '''\n",
        "    return ((y_true==1)*(y_pred==1)).sum()/(y_true==1).sum()\n",
        "\n",
        "def f1_score(y_true, y_pred):\n",
        "    '''\n",
        "    The y_true is the label of dev data and the y_pred is the prediciton of the model\n",
        "    '''\n",
        "    num = 2 * precision_score(y_true, y_pred)*recall_score(y_true, y_pred)\n",
        "    deno = (precision_score(y_true, y_pred)+recall_score(y_true, y_pred))\n",
        "    return num/deno"
      ],
      "execution_count": 0,
      "outputs": []
    },
    {
      "metadata": {
        "id": "9Ddgui-N9Oi4",
        "colab_type": "code",
        "outputId": "aea2e5a4-8b1d-495f-99a8-b0da20f069a2",
        "colab": {
          "base_uri": "https://localhost:8080/",
          "height": 68
        }
      },
      "cell_type": "code",
      "source": [
        "dev_y = np.array(np.squeeze(dev_y).tolist())\n",
        "predict_y = np.array(predict_y)\n",
        "\n",
        "print(precision_score(dev_y, predict_y))\n",
        "print(recall_score(dev_y, predict_y))\n",
        "print(f1_score(dev_y, predict_y))"
      ],
      "execution_count": 0,
      "outputs": [
        {
          "output_type": "stream",
          "text": [
            "0.08080808080808081\n",
            "0.8\n",
            "0.1467889908256881\n"
          ],
          "name": "stdout"
        }
      ]
    }
  ]
}